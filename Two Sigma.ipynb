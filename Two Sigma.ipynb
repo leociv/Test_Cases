{
 "cells": [
  {
   "cell_type": "markdown",
   "id": "8c5f5718",
   "metadata": {},
   "source": [
    "# Two Sigma Connect: Rental Listing Inquiries"
   ]
  },
  {
   "cell_type": "markdown",
   "id": "56fc0894",
   "metadata": {},
   "source": [
    "В нашем распоряжении данные объявлений об аренде квартир в Нью-Йорке\n",
    "\n",
    "**Задача** - спрогнозировать степень интереса к объявлению со стороны арендаторов. А именно, вероятность принадлежности объявления к одному из трёх классов по степени интереса к нему: *низкий*, *средний*, *высокий*"
   ]
  },
  {
   "cell_type": "code",
   "execution_count": 1,
   "id": "5d07bee9",
   "metadata": {},
   "outputs": [],
   "source": [
    "import pandas as pd\n",
    "import numpy as np\n",
    "import matplotlib.pyplot as plt\n",
    "import seaborn as sns\n",
    "\n",
    "from sklearn.preprocessing import OrdinalEncoder\n",
    "from scipy import sparse\n",
    "from sklearn.metrics import log_loss\n",
    "from sklearn.feature_extraction.text import TfidfVectorizer, CountVectorizer\n",
    "from sklearn.model_selection import train_test_split, GridSearchCV\n",
    "import sklearn\n",
    "\n",
    "from lightgbm import LGBMClassifier\n",
    "\n",
    "import warnings\n",
    "warnings.filterwarnings('ignore')"
   ]
  },
  {
   "cell_type": "markdown",
   "id": "f880f6fd",
   "metadata": {},
   "source": [
    "##  Анализ данных и создание признаков"
   ]
  },
  {
   "cell_type": "code",
   "execution_count": 2,
   "id": "2815446f",
   "metadata": {},
   "outputs": [],
   "source": [
    "train_df = pd.read_json(r\"C:\\Users\\leoci\\Desktop\\Two_Sigma\\train.json\")\n",
    "test_df = pd.read_json(r\"C:\\Users\\leoci\\Desktop\\Two_Sigma\\test.json\")"
   ]
  },
  {
   "cell_type": "code",
   "execution_count": 3,
   "id": "678711fd",
   "metadata": {},
   "outputs": [
    {
     "data": {
      "text/html": [
       "<div>\n",
       "<style scoped>\n",
       "    .dataframe tbody tr th:only-of-type {\n",
       "        vertical-align: middle;\n",
       "    }\n",
       "\n",
       "    .dataframe tbody tr th {\n",
       "        vertical-align: top;\n",
       "    }\n",
       "\n",
       "    .dataframe thead th {\n",
       "        text-align: right;\n",
       "    }\n",
       "</style>\n",
       "<table border=\"1\" class=\"dataframe\">\n",
       "  <thead>\n",
       "    <tr style=\"text-align: right;\">\n",
       "      <th></th>\n",
       "      <th>bathrooms</th>\n",
       "      <th>bedrooms</th>\n",
       "      <th>building_id</th>\n",
       "      <th>created</th>\n",
       "      <th>description</th>\n",
       "      <th>display_address</th>\n",
       "      <th>features</th>\n",
       "      <th>latitude</th>\n",
       "      <th>listing_id</th>\n",
       "      <th>longitude</th>\n",
       "      <th>manager_id</th>\n",
       "      <th>photos</th>\n",
       "      <th>price</th>\n",
       "      <th>street_address</th>\n",
       "      <th>interest_level</th>\n",
       "    </tr>\n",
       "  </thead>\n",
       "  <tbody>\n",
       "    <tr>\n",
       "      <th>4</th>\n",
       "      <td>1.0</td>\n",
       "      <td>1</td>\n",
       "      <td>8579a0b0d54db803821a35a4a615e97a</td>\n",
       "      <td>2016-06-16 05:55:27</td>\n",
       "      <td>Spacious 1 Bedroom 1 Bathroom in Williamsburg!...</td>\n",
       "      <td>145 Borinquen Place</td>\n",
       "      <td>[Dining Room, Pre-War, Laundry in Building, Di...</td>\n",
       "      <td>40.7108</td>\n",
       "      <td>7170325</td>\n",
       "      <td>-73.9539</td>\n",
       "      <td>a10db4590843d78c784171a107bdacb4</td>\n",
       "      <td>[https://photos.renthop.com/2/7170325_3bb5ac84...</td>\n",
       "      <td>2400</td>\n",
       "      <td>145 Borinquen Place</td>\n",
       "      <td>medium</td>\n",
       "    </tr>\n",
       "    <tr>\n",
       "      <th>6</th>\n",
       "      <td>1.0</td>\n",
       "      <td>2</td>\n",
       "      <td>b8e75fc949a6cd8225b455648a951712</td>\n",
       "      <td>2016-06-01 05:44:33</td>\n",
       "      <td>BRAND NEW GUT RENOVATED TRUE 2 BEDROOMFind you...</td>\n",
       "      <td>East 44th</td>\n",
       "      <td>[Doorman, Elevator, Laundry in Building, Dishw...</td>\n",
       "      <td>40.7513</td>\n",
       "      <td>7092344</td>\n",
       "      <td>-73.9722</td>\n",
       "      <td>955db33477af4f40004820b4aed804a0</td>\n",
       "      <td>[https://photos.renthop.com/2/7092344_7663c19a...</td>\n",
       "      <td>3800</td>\n",
       "      <td>230 East 44th</td>\n",
       "      <td>low</td>\n",
       "    </tr>\n",
       "    <tr>\n",
       "      <th>9</th>\n",
       "      <td>1.0</td>\n",
       "      <td>2</td>\n",
       "      <td>cd759a988b8f23924b5a2058d5ab2b49</td>\n",
       "      <td>2016-06-14 15:19:59</td>\n",
       "      <td>**FLEX 2 BEDROOM WITH FULL PRESSURIZED WALL**L...</td>\n",
       "      <td>East 56th Street</td>\n",
       "      <td>[Doorman, Elevator, Laundry in Building, Laund...</td>\n",
       "      <td>40.7575</td>\n",
       "      <td>7158677</td>\n",
       "      <td>-73.9625</td>\n",
       "      <td>c8b10a317b766204f08e613cef4ce7a0</td>\n",
       "      <td>[https://photos.renthop.com/2/7158677_c897a134...</td>\n",
       "      <td>3495</td>\n",
       "      <td>405 East 56th Street</td>\n",
       "      <td>medium</td>\n",
       "    </tr>\n",
       "    <tr>\n",
       "      <th>10</th>\n",
       "      <td>1.5</td>\n",
       "      <td>3</td>\n",
       "      <td>53a5b119ba8f7b61d4e010512e0dfc85</td>\n",
       "      <td>2016-06-24 07:54:24</td>\n",
       "      <td>A Brand New 3 Bedroom 1.5 bath ApartmentEnjoy ...</td>\n",
       "      <td>Metropolitan Avenue</td>\n",
       "      <td>[]</td>\n",
       "      <td>40.7145</td>\n",
       "      <td>7211212</td>\n",
       "      <td>-73.9425</td>\n",
       "      <td>5ba989232d0489da1b5f2c45f6688adc</td>\n",
       "      <td>[https://photos.renthop.com/2/7211212_1ed4542e...</td>\n",
       "      <td>3000</td>\n",
       "      <td>792 Metropolitan Avenue</td>\n",
       "      <td>medium</td>\n",
       "    </tr>\n",
       "    <tr>\n",
       "      <th>15</th>\n",
       "      <td>1.0</td>\n",
       "      <td>0</td>\n",
       "      <td>bfb9405149bfff42a92980b594c28234</td>\n",
       "      <td>2016-06-28 03:50:23</td>\n",
       "      <td>Over-sized Studio w abundant closets. Availabl...</td>\n",
       "      <td>East 34th Street</td>\n",
       "      <td>[Doorman, Elevator, Fitness Center, Laundry in...</td>\n",
       "      <td>40.7439</td>\n",
       "      <td>7225292</td>\n",
       "      <td>-73.9743</td>\n",
       "      <td>2c3b41f588fbb5234d8a1e885a436cfa</td>\n",
       "      <td>[https://photos.renthop.com/2/7225292_901f1984...</td>\n",
       "      <td>2795</td>\n",
       "      <td>340 East 34th Street</td>\n",
       "      <td>low</td>\n",
       "    </tr>\n",
       "  </tbody>\n",
       "</table>\n",
       "</div>"
      ],
      "text/plain": [
       "    bathrooms  bedrooms                       building_id  \\\n",
       "4         1.0         1  8579a0b0d54db803821a35a4a615e97a   \n",
       "6         1.0         2  b8e75fc949a6cd8225b455648a951712   \n",
       "9         1.0         2  cd759a988b8f23924b5a2058d5ab2b49   \n",
       "10        1.5         3  53a5b119ba8f7b61d4e010512e0dfc85   \n",
       "15        1.0         0  bfb9405149bfff42a92980b594c28234   \n",
       "\n",
       "                created                                        description  \\\n",
       "4   2016-06-16 05:55:27  Spacious 1 Bedroom 1 Bathroom in Williamsburg!...   \n",
       "6   2016-06-01 05:44:33  BRAND NEW GUT RENOVATED TRUE 2 BEDROOMFind you...   \n",
       "9   2016-06-14 15:19:59  **FLEX 2 BEDROOM WITH FULL PRESSURIZED WALL**L...   \n",
       "10  2016-06-24 07:54:24  A Brand New 3 Bedroom 1.5 bath ApartmentEnjoy ...   \n",
       "15  2016-06-28 03:50:23  Over-sized Studio w abundant closets. Availabl...   \n",
       "\n",
       "        display_address                                           features  \\\n",
       "4   145 Borinquen Place  [Dining Room, Pre-War, Laundry in Building, Di...   \n",
       "6             East 44th  [Doorman, Elevator, Laundry in Building, Dishw...   \n",
       "9      East 56th Street  [Doorman, Elevator, Laundry in Building, Laund...   \n",
       "10  Metropolitan Avenue                                                 []   \n",
       "15     East 34th Street  [Doorman, Elevator, Fitness Center, Laundry in...   \n",
       "\n",
       "    latitude  listing_id  longitude                        manager_id  \\\n",
       "4    40.7108     7170325   -73.9539  a10db4590843d78c784171a107bdacb4   \n",
       "6    40.7513     7092344   -73.9722  955db33477af4f40004820b4aed804a0   \n",
       "9    40.7575     7158677   -73.9625  c8b10a317b766204f08e613cef4ce7a0   \n",
       "10   40.7145     7211212   -73.9425  5ba989232d0489da1b5f2c45f6688adc   \n",
       "15   40.7439     7225292   -73.9743  2c3b41f588fbb5234d8a1e885a436cfa   \n",
       "\n",
       "                                               photos  price  \\\n",
       "4   [https://photos.renthop.com/2/7170325_3bb5ac84...   2400   \n",
       "6   [https://photos.renthop.com/2/7092344_7663c19a...   3800   \n",
       "9   [https://photos.renthop.com/2/7158677_c897a134...   3495   \n",
       "10  [https://photos.renthop.com/2/7211212_1ed4542e...   3000   \n",
       "15  [https://photos.renthop.com/2/7225292_901f1984...   2795   \n",
       "\n",
       "             street_address interest_level  \n",
       "4       145 Borinquen Place         medium  \n",
       "6             230 East 44th            low  \n",
       "9      405 East 56th Street         medium  \n",
       "10  792 Metropolitan Avenue         medium  \n",
       "15     340 East 34th Street            low  "
      ]
     },
     "execution_count": 3,
     "metadata": {},
     "output_type": "execute_result"
    }
   ],
   "source": [
    "train_df.head()"
   ]
  },
  {
   "cell_type": "code",
   "execution_count": 4,
   "id": "4ee9e982",
   "metadata": {},
   "outputs": [
    {
     "name": "stdout",
     "output_type": "stream",
     "text": [
      "<class 'pandas.core.frame.DataFrame'>\n",
      "Int64Index: 49352 entries, 4 to 124009\n",
      "Data columns (total 15 columns):\n",
      " #   Column           Non-Null Count  Dtype  \n",
      "---  ------           --------------  -----  \n",
      " 0   bathrooms        49352 non-null  float64\n",
      " 1   bedrooms         49352 non-null  int64  \n",
      " 2   building_id      49352 non-null  object \n",
      " 3   created          49352 non-null  object \n",
      " 4   description      49352 non-null  object \n",
      " 5   display_address  49352 non-null  object \n",
      " 6   features         49352 non-null  object \n",
      " 7   latitude         49352 non-null  float64\n",
      " 8   listing_id       49352 non-null  int64  \n",
      " 9   longitude        49352 non-null  float64\n",
      " 10  manager_id       49352 non-null  object \n",
      " 11  photos           49352 non-null  object \n",
      " 12  price            49352 non-null  int64  \n",
      " 13  street_address   49352 non-null  object \n",
      " 14  interest_level   49352 non-null  object \n",
      "dtypes: float64(3), int64(3), object(9)\n",
      "memory usage: 6.0+ MB\n"
     ]
    }
   ],
   "source": [
    "train_df.info()"
   ]
  },
  {
   "cell_type": "code",
   "execution_count": 5,
   "id": "bd433150",
   "metadata": {},
   "outputs": [
    {
     "name": "stdout",
     "output_type": "stream",
     "text": [
      "<class 'pandas.core.frame.DataFrame'>\n",
      "Int64Index: 74659 entries, 0 to 124010\n",
      "Data columns (total 14 columns):\n",
      " #   Column           Non-Null Count  Dtype  \n",
      "---  ------           --------------  -----  \n",
      " 0   bathrooms        74659 non-null  float64\n",
      " 1   bedrooms         74659 non-null  int64  \n",
      " 2   building_id      74659 non-null  object \n",
      " 3   created          74659 non-null  object \n",
      " 4   description      74659 non-null  object \n",
      " 5   display_address  74659 non-null  object \n",
      " 6   features         74659 non-null  object \n",
      " 7   latitude         74659 non-null  float64\n",
      " 8   listing_id       74659 non-null  int64  \n",
      " 9   longitude        74659 non-null  float64\n",
      " 10  manager_id       74659 non-null  object \n",
      " 11  photos           74659 non-null  object \n",
      " 12  price            74659 non-null  int64  \n",
      " 13  street_address   74659 non-null  object \n",
      "dtypes: float64(3), int64(3), object(8)\n",
      "memory usage: 8.5+ MB\n"
     ]
    }
   ],
   "source": [
    "test_df.info()"
   ]
  },
  {
   "cell_type": "markdown",
   "id": "d1fe7eb9",
   "metadata": {},
   "source": [
    "В датасете есть следующие столбцы:\n",
    "- bathrooms - количество санузлов в квартире\n",
    "- bedrooms - количество спален в квартире\n",
    "- building_id - id здания\n",
    "- created - дата публикации объявления\n",
    "- description - описание квартиры\n",
    "- display_address - адрес дома (только улица)\n",
    "- features - отдельно отмеченные удобства в квартире\n",
    "- latitude и longitude - координаты на карте\n",
    "- listing_id - id объявления\n",
    "- manager_id - id менеджера, размещающего объявление\n",
    "- photos - ссылки на фотографии квартиры\n",
    "- price - арендная стоимость\n",
    "- street_address - адрес с указанием номера дома\n",
    "- interest_level - уровень интереса к объявлению\n",
    "\n",
    "Признак street_address повторяет адрес, указанный в display_address, но с указанием номера дома. Таким образом, этот признак, скорее всего, отражает ту же информацию, что и building_id. Поэтому мы этот признак учитывать не будем.\n",
    "\n",
    "Рассмотрим все остальные признаки по отдельности.\n",
    "\n",
    "### Численные признаки\n",
    "\n",
    "1. **bathrooms**"
   ]
  },
  {
   "cell_type": "code",
   "execution_count": 6,
   "id": "bac7814c",
   "metadata": {},
   "outputs": [
    {
     "data": {
      "text/plain": [
       "1.0     39422\n",
       "2.0      7660\n",
       "3.0       745\n",
       "1.5       645\n",
       "0.0       313\n",
       "2.5       277\n",
       "4.0       159\n",
       "3.5        70\n",
       "4.5        29\n",
       "5.0        20\n",
       "5.5         5\n",
       "6.0         4\n",
       "7.0         1\n",
       "6.5         1\n",
       "10.0        1\n",
       "Name: bathrooms, dtype: int64"
      ]
     },
     "execution_count": 6,
     "metadata": {},
     "output_type": "execute_result"
    }
   ],
   "source": [
    "train_df['bathrooms'].value_counts()"
   ]
  },
  {
   "cell_type": "markdown",
   "id": "f93bf7b9",
   "metadata": {},
   "source": [
    "Основная масса квартир имеет 1-3 санузла. Объявления с количеством санузлов больше 6 выглядят подозрительно, и их очень мало. удалим их."
   ]
  },
  {
   "cell_type": "code",
   "execution_count": 7,
   "id": "92596fbe",
   "metadata": {},
   "outputs": [],
   "source": [
    "train_df = train_df.query(\"bathrooms <= 6\")"
   ]
  },
  {
   "cell_type": "markdown",
   "id": "0c1a4437",
   "metadata": {},
   "source": [
    "2. **bedrooms**"
   ]
  },
  {
   "cell_type": "code",
   "execution_count": 8,
   "id": "105ad077",
   "metadata": {},
   "outputs": [
    {
     "data": {
      "text/plain": [
       "1    15752\n",
       "2    14622\n",
       "0     9475\n",
       "3     7276\n",
       "4     1929\n",
       "5      246\n",
       "6       46\n",
       "8        2\n",
       "7        1\n",
       "Name: bedrooms, dtype: int64"
      ]
     },
     "execution_count": 8,
     "metadata": {},
     "output_type": "execute_result"
    }
   ],
   "source": [
    "train_df['bedrooms'].value_counts()"
   ]
  },
  {
   "cell_type": "markdown",
   "id": "27b22c45",
   "metadata": {},
   "source": [
    "Как и с санузлами, удалим квартиры-особняки, в которых больше 6 спален, т.к. их процент очень маленький."
   ]
  },
  {
   "cell_type": "code",
   "execution_count": 9,
   "id": "3dec4fa7",
   "metadata": {},
   "outputs": [],
   "source": [
    "train_df = train_df.query(\"bedrooms <= 6\")"
   ]
  },
  {
   "cell_type": "markdown",
   "id": "8b35fbd1",
   "metadata": {},
   "source": [
    "3. **latitude и longitude**"
   ]
  },
  {
   "cell_type": "code",
   "execution_count": 10,
   "id": "2002bfcb",
   "metadata": {},
   "outputs": [
    {
     "data": {
      "image/png": "[encoded data removed]",
      "text/plain": [
       "<Figure size 432x288 with 1 Axes>"
      ]
     },
     "metadata": {
      "needs_background": "light"
     },
     "output_type": "display_data"
    },
    {
     "name": "stdout",
     "output_type": "stream",
     "text": [
      "Медианное значение широты =  40.7518\n"
     ]
    }
   ],
   "source": [
    "train_df.boxplot('latitude')\n",
    "plt.show()\n",
    "print(\"Медианное значение широты = \", train_df['latitude'].median())"
   ]
  },
  {
   "cell_type": "code",
   "execution_count": 11,
   "id": "ff2905bb",
   "metadata": {},
   "outputs": [
    {
     "data": {
      "image/png": "[encoded data removed]",
      "text/plain": [
       "<Figure size 432x288 with 1 Axes>"
      ]
     },
     "metadata": {
      "needs_background": "light"
     },
     "output_type": "display_data"
    },
    {
     "name": "stdout",
     "output_type": "stream",
     "text": [
      "Медианное значение долготы =  -73.9779\n"
     ]
    }
   ],
   "source": [
    "train_df.boxplot('longitude')\n",
    "plt.show()\n",
    "print(\"Медианное значение долготы = \", train_df['longitude'].median())"
   ]
  },
  {
   "cell_type": "markdown",
   "id": "e0f6a22b",
   "metadata": {},
   "source": [
    "Почти все координаты расположены около значений (40.7518, -73.9779), но есть явно выбивающиеся значения.\n",
    "Для Нью-Йорка 1 градус широты примерно равен 111км на местности, а 1 градус долготы около 84км. Поэтому выбросами будем считать значения, отклоняющиеся от медианного больше чем на 1 градус. Посмотрим на все выбросы."
   ]
  },
  {
   "cell_type": "code",
   "execution_count": 12,
   "id": "420531f2",
   "metadata": {
    "scrolled": false
   },
   "outputs": [
    {
     "data": {
      "text/html": [
       "<div>\n",
       "<style scoped>\n",
       "    .dataframe tbody tr th:only-of-type {\n",
       "        vertical-align: middle;\n",
       "    }\n",
       "\n",
       "    .dataframe tbody tr th {\n",
       "        vertical-align: top;\n",
       "    }\n",
       "\n",
       "    .dataframe thead th {\n",
       "        text-align: right;\n",
       "    }\n",
       "</style>\n",
       "<table border=\"1\" class=\"dataframe\">\n",
       "  <thead>\n",
       "    <tr style=\"text-align: right;\">\n",
       "      <th></th>\n",
       "      <th>bathrooms</th>\n",
       "      <th>bedrooms</th>\n",
       "      <th>building_id</th>\n",
       "      <th>created</th>\n",
       "      <th>description</th>\n",
       "      <th>display_address</th>\n",
       "      <th>features</th>\n",
       "      <th>latitude</th>\n",
       "      <th>listing_id</th>\n",
       "      <th>longitude</th>\n",
       "      <th>manager_id</th>\n",
       "      <th>photos</th>\n",
       "      <th>price</th>\n",
       "      <th>street_address</th>\n",
       "      <th>interest_level</th>\n",
       "    </tr>\n",
       "  </thead>\n",
       "  <tbody>\n",
       "    <tr>\n",
       "      <th>2028</th>\n",
       "      <td>1.0</td>\n",
       "      <td>1</td>\n",
       "      <td>1490317c3a31185f0c8115f01d1acc5b</td>\n",
       "      <td>2016-05-31 22:26:06</td>\n",
       "      <td>Gorgeous one bedroom in Sunset Park-Private en...</td>\n",
       "      <td>Sunset Park, Brooklyn</td>\n",
       "      <td>[hardwood floors, own entrance, oak cabinets]</td>\n",
       "      <td>0.0000</td>\n",
       "      <td>7087715</td>\n",
       "      <td>0.000</td>\n",
       "      <td>2290f91e45472ecaf0983c5af18098ce</td>\n",
       "      <td>[https://photos.renthop.com/2/7087715_mb_3517f...</td>\n",
       "      <td>1750</td>\n",
       "      <td>145 28 Street</td>\n",
       "      <td>low</td>\n",
       "    </tr>\n",
       "    <tr>\n",
       "      <th>37426</th>\n",
       "      <td>1.0</td>\n",
       "      <td>1</td>\n",
       "      <td>0</td>\n",
       "      <td>2016-06-01 19:59:46</td>\n",
       "      <td>Big 2 bedroom in clean and quite multi family ...</td>\n",
       "      <td>88 van Sicklen street</td>\n",
       "      <td>[Reduced Fee, Cats Allowed]</td>\n",
       "      <td>0.0000</td>\n",
       "      <td>7094527</td>\n",
       "      <td>0.000</td>\n",
       "      <td>e6472c7237327dd3903b3d6f6a94515a</td>\n",
       "      <td>[https://photos.renthop.com/2/7094527_mb_7f196...</td>\n",
       "      <td>1725</td>\n",
       "      <td>Van Sicklen street</td>\n",
       "      <td>low</td>\n",
       "    </tr>\n",
       "    <tr>\n",
       "      <th>39134</th>\n",
       "      <td>1.0</td>\n",
       "      <td>2</td>\n",
       "      <td>a1b2bd0758c6f14be815e4d9382b8169</td>\n",
       "      <td>2016-06-16 15:38:11</td>\n",
       "      <td>Flatiron Duplex!At the intersection of Flatiro...</td>\n",
       "      <td>Flatiron, Kips Bay, Gramercy</td>\n",
       "      <td>[Views, No Fee, Duplex, Laundry in Unit, Cats ...</td>\n",
       "      <td>0.0000</td>\n",
       "      <td>7174094</td>\n",
       "      <td>0.000</td>\n",
       "      <td>42cb18c3898c42b7512065e7d3e1e8bd</td>\n",
       "      <td>[https://photos.renthop.com/2/7174094_mb_e3c7e...</td>\n",
       "      <td>4395</td>\n",
       "      <td>219 E 28th</td>\n",
       "      <td>low</td>\n",
       "    </tr>\n",
       "    <tr>\n",
       "      <th>39798</th>\n",
       "      <td>1.0</td>\n",
       "      <td>1</td>\n",
       "      <td>117aceb94c48bfd1f3066a22f999705f</td>\n",
       "      <td>2016-06-17 02:10:25</td>\n",
       "      <td>NO FEE 1 bedroom - Great Elevator  - Laundry B...</td>\n",
       "      <td>E 38th St,</td>\n",
       "      <td>[Elevator, Walk in Closet(s), High Ceilings, H...</td>\n",
       "      <td>34.0126</td>\n",
       "      <td>7174857</td>\n",
       "      <td>-118.271</td>\n",
       "      <td>f19288238987b18a693e16ee23720c20</td>\n",
       "      <td>[https://photos.renthop.com/2/7174857_6d71b6e1...</td>\n",
       "      <td>2425</td>\n",
       "      <td>234 E 38th St,</td>\n",
       "      <td>low</td>\n",
       "    </tr>\n",
       "    <tr>\n",
       "      <th>46941</th>\n",
       "      <td>1.0</td>\n",
       "      <td>2</td>\n",
       "      <td>8f837ada8d7ec5d251a369cd5909af7c</td>\n",
       "      <td>2016-05-07 08:15:32</td>\n",
       "      <td>Spacious and bright 2 bedroom fully renovated ...</td>\n",
       "      <td>Madison Ave</td>\n",
       "      <td>[Laundry in Unit, Roof Deck, &lt;null&gt;]</td>\n",
       "      <td>0.0000</td>\n",
       "      <td>6981091</td>\n",
       "      <td>0.000</td>\n",
       "      <td>b93b333035403fc090fb51372fb082f9</td>\n",
       "      <td>[https://photos.renthop.com/2/6981091_mb_efd73...</td>\n",
       "      <td>2950</td>\n",
       "      <td>1632 Madison Ave</td>\n",
       "      <td>medium</td>\n",
       "    </tr>\n",
       "    <tr>\n",
       "      <th>49884</th>\n",
       "      <td>1.0</td>\n",
       "      <td>2</td>\n",
       "      <td>ebb1fe8e32b8565f057a20abc495a2b5</td>\n",
       "      <td>2016-05-10 10:25:19</td>\n",
       "      <td>New construction, luxury highrise, The two bed...</td>\n",
       "      <td>24th St LIC</td>\n",
       "      <td>[Doorman, Fitness Center, Laundry in Unit, Cat...</td>\n",
       "      <td>0.0000</td>\n",
       "      <td>6991620</td>\n",
       "      <td>0.000</td>\n",
       "      <td>dd85ae9242e4012be8a386d37c1d9453</td>\n",
       "      <td>[https://photos.renthop.com/2/6991620_mb_e7c05...</td>\n",
       "      <td>3619</td>\n",
       "      <td>41-42 24th St</td>\n",
       "      <td>low</td>\n",
       "    </tr>\n",
       "    <tr>\n",
       "      <th>63688</th>\n",
       "      <td>4.0</td>\n",
       "      <td>3</td>\n",
       "      <td>f389c8eb16e5d0c771615fb30f3cc9d6</td>\n",
       "      <td>2016-05-11 18:07:15</td>\n",
       "      <td>This high floor, mint condition, corner unit b...</td>\n",
       "      <td>450 East 83rd Street apt 21D (Furnished)</td>\n",
       "      <td>[Furnished, Laundry In Unit, Cats Allowed, Dog...</td>\n",
       "      <td>0.0000</td>\n",
       "      <td>6997950</td>\n",
       "      <td>0.000</td>\n",
       "      <td>355ccd9223a7481c5d223d39b4e65e90</td>\n",
       "      <td>[https://photos.renthop.com/2/6997950_4ef02f8c...</td>\n",
       "      <td>16500</td>\n",
       "      <td>450 East 83rd Street</td>\n",
       "      <td>low</td>\n",
       "    </tr>\n",
       "    <tr>\n",
       "      <th>66197</th>\n",
       "      <td>1.0</td>\n",
       "      <td>1</td>\n",
       "      <td>4d7c804afea366c666731bee9c56919e</td>\n",
       "      <td>2016-05-10 14:30:12</td>\n",
       "      <td>NO FEE!  Spacious one bedroom apartment in a F...</td>\n",
       "      <td>west 87</td>\n",
       "      <td>[Doorman, Fitness Center, No Fee, Cats Allowed...</td>\n",
       "      <td>0.0000</td>\n",
       "      <td>6991901</td>\n",
       "      <td>0.000</td>\n",
       "      <td>7d4f285c15b11c61bacfbf8e7a49252d</td>\n",
       "      <td>[https://photos.renthop.com/2/6991901_mb_e3232...</td>\n",
       "      <td>3600</td>\n",
       "      <td>247 west 87</td>\n",
       "      <td>low</td>\n",
       "    </tr>\n",
       "    <tr>\n",
       "      <th>69423</th>\n",
       "      <td>1.0</td>\n",
       "      <td>2</td>\n",
       "      <td>55ab81a4ccd5ea862fba344dc29f1463</td>\n",
       "      <td>2016-05-24 17:43:39</td>\n",
       "      <td>Fantastic 2 bed with the works! It has 2 queen...</td>\n",
       "      <td>118 W 109th</td>\n",
       "      <td>[Cats Allowed, Dogs Allowed, No Fee, Laundry i...</td>\n",
       "      <td>0.0000</td>\n",
       "      <td>7062134</td>\n",
       "      <td>0.000</td>\n",
       "      <td>91c09ae8bfdc7e5ba7d6385e33a6064d</td>\n",
       "      <td>[https://photos.renthop.com/2/7062134_mb_9f18c...</td>\n",
       "      <td>3200</td>\n",
       "      <td>118 W 109th</td>\n",
       "      <td>low</td>\n",
       "    </tr>\n",
       "    <tr>\n",
       "      <th>70841</th>\n",
       "      <td>1.0</td>\n",
       "      <td>1</td>\n",
       "      <td>09e6efa1a58a3cd753aeee80bdf5ec36</td>\n",
       "      <td>2016-05-10 10:11:20</td>\n",
       "      <td>No fee! Prime NOLITA neighborhood with amazing...</td>\n",
       "      <td>Mott St</td>\n",
       "      <td>[No Fee, &lt;null&gt;]</td>\n",
       "      <td>0.0000</td>\n",
       "      <td>6991613</td>\n",
       "      <td>0.000</td>\n",
       "      <td>dd85ae9242e4012be8a386d37c1d9453</td>\n",
       "      <td>[https://photos.renthop.com/2/6991613_mb_b7cec...</td>\n",
       "      <td>3495</td>\n",
       "      <td>246 Mott St</td>\n",
       "      <td>low</td>\n",
       "    </tr>\n",
       "    <tr>\n",
       "      <th>76934</th>\n",
       "      <td>1.0</td>\n",
       "      <td>2</td>\n",
       "      <td>cf6bfdca7e8ffdb3fa5f7d8d85005e4a</td>\n",
       "      <td>2016-05-26 14:19:38</td>\n",
       "      <td>*Mgmt is accepting June 1st, 15th, July 1st, o...</td>\n",
       "      <td>106th/Central Park</td>\n",
       "      <td>[Cats Allowed, Dogs Allowed, No Fee, Laundry i...</td>\n",
       "      <td>0.0000</td>\n",
       "      <td>7072634</td>\n",
       "      <td>0.000</td>\n",
       "      <td>91c09ae8bfdc7e5ba7d6385e33a6064d</td>\n",
       "      <td>[https://photos.renthop.com/2/7072634_mb_90dba...</td>\n",
       "      <td>3200</td>\n",
       "      <td>21 W 106th</td>\n",
       "      <td>low</td>\n",
       "    </tr>\n",
       "    <tr>\n",
       "      <th>85521</th>\n",
       "      <td>1.0</td>\n",
       "      <td>0</td>\n",
       "      <td>a742bc8b82eedb42a3d5111d62dd843b</td>\n",
       "      <td>2016-04-19 12:16:43</td>\n",
       "      <td>Gorgeous sunny studio in Midtown East with an ...</td>\n",
       "      <td>e. 53 St</td>\n",
       "      <td>[]</td>\n",
       "      <td>0.0000</td>\n",
       "      <td>6896885</td>\n",
       "      <td>0.000</td>\n",
       "      <td>b93b333035403fc090fb51372fb082f9</td>\n",
       "      <td>[https://photos.renthop.com/2/6896885_mb_48518...</td>\n",
       "      <td>1850</td>\n",
       "      <td>338 e. 53</td>\n",
       "      <td>low</td>\n",
       "    </tr>\n",
       "    <tr>\n",
       "      <th>106350</th>\n",
       "      <td>5.0</td>\n",
       "      <td>6</td>\n",
       "      <td>0</td>\n",
       "      <td>2016-04-18 02:14:51</td>\n",
       "      <td>***NO BROKER FEE***&lt;BR&gt;&lt;BR&gt;Situated on a gorge...</td>\n",
       "      <td>Decatur Street</td>\n",
       "      <td>[Garden/Patio, Terrace, No Fee, Outdoor Space,...</td>\n",
       "      <td>0.0000</td>\n",
       "      <td>6888639</td>\n",
       "      <td>0.000</td>\n",
       "      <td>c639a76f31c41923cd91d23875a72264</td>\n",
       "      <td>[https://photos.renthop.com/2/6888639_87eb648f...</td>\n",
       "      <td>9995</td>\n",
       "      <td>259 Decatur Street</td>\n",
       "      <td>low</td>\n",
       "    </tr>\n",
       "  </tbody>\n",
       "</table>\n",
       "</div>"
      ],
      "text/plain": [
       "        bathrooms  bedrooms                       building_id  \\\n",
       "2028          1.0         1  1490317c3a31185f0c8115f01d1acc5b   \n",
       "37426         1.0         1                                 0   \n",
       "39134         1.0         2  a1b2bd0758c6f14be815e4d9382b8169   \n",
       "39798         1.0         1  117aceb94c48bfd1f3066a22f999705f   \n",
       "46941         1.0         2  8f837ada8d7ec5d251a369cd5909af7c   \n",
       "49884         1.0         2  ebb1fe8e32b8565f057a20abc495a2b5   \n",
       "63688         4.0         3  f389c8eb16e5d0c771615fb30f3cc9d6   \n",
       "66197         1.0         1  4d7c804afea366c666731bee9c56919e   \n",
       "69423         1.0         2  55ab81a4ccd5ea862fba344dc29f1463   \n",
       "70841         1.0         1  09e6efa1a58a3cd753aeee80bdf5ec36   \n",
       "76934         1.0         2  cf6bfdca7e8ffdb3fa5f7d8d85005e4a   \n",
       "85521         1.0         0  a742bc8b82eedb42a3d5111d62dd843b   \n",
       "106350        5.0         6                                 0   \n",
       "\n",
       "                    created  \\\n",
       "2028    2016-05-31 22:26:06   \n",
       "37426   2016-06-01 19:59:46   \n",
       "39134   2016-06-16 15:38:11   \n",
       "39798   2016-06-17 02:10:25   \n",
       "46941   2016-05-07 08:15:32   \n",
       "49884   2016-05-10 10:25:19   \n",
       "63688   2016-05-11 18:07:15   \n",
       "66197   2016-05-10 14:30:12   \n",
       "69423   2016-05-24 17:43:39   \n",
       "70841   2016-05-10 10:11:20   \n",
       "76934   2016-05-26 14:19:38   \n",
       "85521   2016-04-19 12:16:43   \n",
       "106350  2016-04-18 02:14:51   \n",
       "\n",
       "                                              description  \\\n",
       "2028    Gorgeous one bedroom in Sunset Park-Private en...   \n",
       "37426   Big 2 bedroom in clean and quite multi family ...   \n",
       "39134   Flatiron Duplex!At the intersection of Flatiro...   \n",
       "39798   NO FEE 1 bedroom - Great Elevator  - Laundry B...   \n",
       "46941   Spacious and bright 2 bedroom fully renovated ...   \n",
       "49884   New construction, luxury highrise, The two bed...   \n",
       "63688   This high floor, mint condition, corner unit b...   \n",
       "66197   NO FEE!  Spacious one bedroom apartment in a F...   \n",
       "69423   Fantastic 2 bed with the works! It has 2 queen...   \n",
       "70841   No fee! Prime NOLITA neighborhood with amazing...   \n",
       "76934   *Mgmt is accepting June 1st, 15th, July 1st, o...   \n",
       "85521   Gorgeous sunny studio in Midtown East with an ...   \n",
       "106350  ***NO BROKER FEE***<BR><BR>Situated on a gorge...   \n",
       "\n",
       "                                 display_address  \\\n",
       "2028                       Sunset Park, Brooklyn   \n",
       "37426                      88 van Sicklen street   \n",
       "39134               Flatiron, Kips Bay, Gramercy   \n",
       "39798                                 E 38th St,   \n",
       "46941                                Madison Ave   \n",
       "49884                                24th St LIC   \n",
       "63688   450 East 83rd Street apt 21D (Furnished)   \n",
       "66197                                    west 87   \n",
       "69423                                118 W 109th   \n",
       "70841                                    Mott St   \n",
       "76934                         106th/Central Park   \n",
       "85521                                   e. 53 St   \n",
       "106350                            Decatur Street   \n",
       "\n",
       "                                                 features  latitude  \\\n",
       "2028        [hardwood floors, own entrance, oak cabinets]    0.0000   \n",
       "37426                         [Reduced Fee, Cats Allowed]    0.0000   \n",
       "39134   [Views, No Fee, Duplex, Laundry in Unit, Cats ...    0.0000   \n",
       "39798   [Elevator, Walk in Closet(s), High Ceilings, H...   34.0126   \n",
       "46941                [Laundry in Unit, Roof Deck, <null>]    0.0000   \n",
       "49884   [Doorman, Fitness Center, Laundry in Unit, Cat...    0.0000   \n",
       "63688   [Furnished, Laundry In Unit, Cats Allowed, Dog...    0.0000   \n",
       "66197   [Doorman, Fitness Center, No Fee, Cats Allowed...    0.0000   \n",
       "69423   [Cats Allowed, Dogs Allowed, No Fee, Laundry i...    0.0000   \n",
       "70841                                    [No Fee, <null>]    0.0000   \n",
       "76934   [Cats Allowed, Dogs Allowed, No Fee, Laundry i...    0.0000   \n",
       "85521                                                  []    0.0000   \n",
       "106350  [Garden/Patio, Terrace, No Fee, Outdoor Space,...    0.0000   \n",
       "\n",
       "        listing_id  longitude                        manager_id  \\\n",
       "2028       7087715      0.000  2290f91e45472ecaf0983c5af18098ce   \n",
       "37426      7094527      0.000  e6472c7237327dd3903b3d6f6a94515a   \n",
       "39134      7174094      0.000  42cb18c3898c42b7512065e7d3e1e8bd   \n",
       "39798      7174857   -118.271  f19288238987b18a693e16ee23720c20   \n",
       "46941      6981091      0.000  b93b333035403fc090fb51372fb082f9   \n",
       "49884      6991620      0.000  dd85ae9242e4012be8a386d37c1d9453   \n",
       "63688      6997950      0.000  355ccd9223a7481c5d223d39b4e65e90   \n",
       "66197      6991901      0.000  7d4f285c15b11c61bacfbf8e7a49252d   \n",
       "69423      7062134      0.000  91c09ae8bfdc7e5ba7d6385e33a6064d   \n",
       "70841      6991613      0.000  dd85ae9242e4012be8a386d37c1d9453   \n",
       "76934      7072634      0.000  91c09ae8bfdc7e5ba7d6385e33a6064d   \n",
       "85521      6896885      0.000  b93b333035403fc090fb51372fb082f9   \n",
       "106350     6888639      0.000  c639a76f31c41923cd91d23875a72264   \n",
       "\n",
       "                                                   photos  price  \\\n",
       "2028    [https://photos.renthop.com/2/7087715_mb_3517f...   1750   \n",
       "37426   [https://photos.renthop.com/2/7094527_mb_7f196...   1725   \n",
       "39134   [https://photos.renthop.com/2/7174094_mb_e3c7e...   4395   \n",
       "39798   [https://photos.renthop.com/2/7174857_6d71b6e1...   2425   \n",
       "46941   [https://photos.renthop.com/2/6981091_mb_efd73...   2950   \n",
       "49884   [https://photos.renthop.com/2/6991620_mb_e7c05...   3619   \n",
       "63688   [https://photos.renthop.com/2/6997950_4ef02f8c...  16500   \n",
       "66197   [https://photos.renthop.com/2/6991901_mb_e3232...   3600   \n",
       "69423   [https://photos.renthop.com/2/7062134_mb_9f18c...   3200   \n",
       "70841   [https://photos.renthop.com/2/6991613_mb_b7cec...   3495   \n",
       "76934   [https://photos.renthop.com/2/7072634_mb_90dba...   3200   \n",
       "85521   [https://photos.renthop.com/2/6896885_mb_48518...   1850   \n",
       "106350  [https://photos.renthop.com/2/6888639_87eb648f...   9995   \n",
       "\n",
       "              street_address interest_level  \n",
       "2028           145 28 Street            low  \n",
       "37426     Van Sicklen street            low  \n",
       "39134             219 E 28th            low  \n",
       "39798         234 E 38th St,            low  \n",
       "46941       1632 Madison Ave         medium  \n",
       "49884         41-42 24th St             low  \n",
       "63688   450 East 83rd Street            low  \n",
       "66197            247 west 87            low  \n",
       "69423            118 W 109th            low  \n",
       "70841           246 Mott St             low  \n",
       "76934             21 W 106th            low  \n",
       "85521              338 e. 53            low  \n",
       "106350    259 Decatur Street            low  "
      ]
     },
     "metadata": {},
     "output_type": "display_data"
    },
    {
     "data": {
      "text/html": [
       "<div>\n",
       "<style scoped>\n",
       "    .dataframe tbody tr th:only-of-type {\n",
       "        vertical-align: middle;\n",
       "    }\n",
       "\n",
       "    .dataframe tbody tr th {\n",
       "        vertical-align: top;\n",
       "    }\n",
       "\n",
       "    .dataframe thead th {\n",
       "        text-align: right;\n",
       "    }\n",
       "</style>\n",
       "<table border=\"1\" class=\"dataframe\">\n",
       "  <thead>\n",
       "    <tr style=\"text-align: right;\">\n",
       "      <th></th>\n",
       "      <th>bathrooms</th>\n",
       "      <th>bedrooms</th>\n",
       "      <th>building_id</th>\n",
       "      <th>created</th>\n",
       "      <th>description</th>\n",
       "      <th>display_address</th>\n",
       "      <th>features</th>\n",
       "      <th>latitude</th>\n",
       "      <th>listing_id</th>\n",
       "      <th>longitude</th>\n",
       "      <th>manager_id</th>\n",
       "      <th>photos</th>\n",
       "      <th>price</th>\n",
       "      <th>street_address</th>\n",
       "      <th>interest_level</th>\n",
       "    </tr>\n",
       "  </thead>\n",
       "  <tbody>\n",
       "    <tr>\n",
       "      <th>872</th>\n",
       "      <td>1.0</td>\n",
       "      <td>2</td>\n",
       "      <td>de47025fe5e6d20a1360cb3efe8c8348</td>\n",
       "      <td>2016-06-11 06:44:25</td>\n",
       "      <td>Spacious two bedroom, corner unit with...</td>\n",
       "      <td>32 Garrison Street</td>\n",
       "      <td>[Elevator, Cats Allowed, Dogs Allowed]</td>\n",
       "      <td>42.3459</td>\n",
       "      <td>7143730</td>\n",
       "      <td>-71.0794</td>\n",
       "      <td>c090563865adf7dd1c953e9d6bd65318</td>\n",
       "      <td>[https://photos.renthop.com/2/7143730_775991d2...</td>\n",
       "      <td>4186</td>\n",
       "      <td>32 Garrison Street</td>\n",
       "      <td>low</td>\n",
       "    </tr>\n",
       "    <tr>\n",
       "      <th>4719</th>\n",
       "      <td>2.0</td>\n",
       "      <td>2</td>\n",
       "      <td>51052daba3eae7ee4e27bf436f7eb5a9</td>\n",
       "      <td>2016-06-27 02:48:10</td>\n",
       "      <td>Super Spacious Renovated 2BR/2BATH with Home O...</td>\n",
       "      <td>84 Street</td>\n",
       "      <td>[Private Outdoor Space, Dishwasher, Hardwood F...</td>\n",
       "      <td>42.8724</td>\n",
       "      <td>7221153</td>\n",
       "      <td>-73.4662</td>\n",
       "      <td>5856ea690d343df5f3bc66315babb280</td>\n",
       "      <td>[https://photos.renthop.com/2/7221153_0160c1e4...</td>\n",
       "      <td>2300</td>\n",
       "      <td>1844 84 Street</td>\n",
       "      <td>low</td>\n",
       "    </tr>\n",
       "    <tr>\n",
       "      <th>16405</th>\n",
       "      <td>1.0</td>\n",
       "      <td>0</td>\n",
       "      <td>23b17bf6f7be64e3272b561cc0b65f5a</td>\n",
       "      <td>2016-06-22 23:17:24</td>\n",
       "      <td></td>\n",
       "      <td>Riverside Dr/ 90 Street</td>\n",
       "      <td>[Furnished, Common Outdoor Space, Air Conditio...</td>\n",
       "      <td>44.6038</td>\n",
       "      <td>7202226</td>\n",
       "      <td>-75.1773</td>\n",
       "      <td>7a3570a25df3d87f6520bfe770473d58</td>\n",
       "      <td>[https://photos.renthop.com/2/7202226_a5b38334...</td>\n",
       "      <td>1350</td>\n",
       "      <td>Riverside Dr/ 90 Street</td>\n",
       "      <td>medium</td>\n",
       "    </tr>\n",
       "    <tr>\n",
       "      <th>18267</th>\n",
       "      <td>1.0</td>\n",
       "      <td>2</td>\n",
       "      <td>0</td>\n",
       "      <td>2016-06-29 02:30:45</td>\n",
       "      <td>Huge bedrooms, windows in every room! Hard woo...</td>\n",
       "      <td>1st Ave. Loop</td>\n",
       "      <td>[Elevator, Laundry in Building, Dishwasher, Ha...</td>\n",
       "      <td>43.0346</td>\n",
       "      <td>7229074</td>\n",
       "      <td>-76.6336</td>\n",
       "      <td>f44a6215f74f901ac7e326207f2984f7</td>\n",
       "      <td>[https://photos.renthop.com/2/7229074_14de73ea...</td>\n",
       "      <td>3300</td>\n",
       "      <td>250 1st Ave. Loop</td>\n",
       "      <td>low</td>\n",
       "    </tr>\n",
       "    <tr>\n",
       "      <th>24747</th>\n",
       "      <td>1.0</td>\n",
       "      <td>1</td>\n",
       "      <td>253df0eb4ce61b5bcb695a440606c58d</td>\n",
       "      <td>2016-06-12 03:46:05</td>\n",
       "      <td>Stunning one bedroom apartment with dr...</td>\n",
       "      <td>56 St. Botolph Street</td>\n",
       "      <td>[Elevator, Cats Allowed, Dogs Allowed]</td>\n",
       "      <td>42.3459</td>\n",
       "      <td>7146153</td>\n",
       "      <td>-71.0794</td>\n",
       "      <td>6a393c2a7ce242d016fb0170ed19aa61</td>\n",
       "      <td>[https://photos.renthop.com/2/7146153_6c1b933d...</td>\n",
       "      <td>4123</td>\n",
       "      <td>56 St. Botolph Street</td>\n",
       "      <td>low</td>\n",
       "    </tr>\n",
       "    <tr>\n",
       "      <th>39046</th>\n",
       "      <td>1.0</td>\n",
       "      <td>1</td>\n",
       "      <td>2adec6e74a834940cde0f05a8684d08f</td>\n",
       "      <td>2016-06-16 04:28:15</td>\n",
       "      <td>Lenox Farms Apartments &amp; Town Homes of...</td>\n",
       "      <td>550 Liberty Street</td>\n",
       "      <td>[Fitness Center, Cats Allowed, Dogs Allowed]</td>\n",
       "      <td>42.2019</td>\n",
       "      <td>7169135</td>\n",
       "      <td>-70.9846</td>\n",
       "      <td>50ef6c51bfe99f33e459ab902190e87f</td>\n",
       "      <td>[https://photos.renthop.com/2/7169135_9a47ffdd...</td>\n",
       "      <td>2140</td>\n",
       "      <td>550 Liberty Street</td>\n",
       "      <td>low</td>\n",
       "    </tr>\n",
       "    <tr>\n",
       "      <th>41022</th>\n",
       "      <td>2.0</td>\n",
       "      <td>2</td>\n",
       "      <td>2adec6e74a834940cde0f05a8684d08f</td>\n",
       "      <td>2016-06-24 05:28:35</td>\n",
       "      <td>Lenox Farms Apartments &amp; Town Homes of...</td>\n",
       "      <td>550 Liberty Street</td>\n",
       "      <td>[Fitness Center, Cats Allowed, Dogs Allowed]</td>\n",
       "      <td>42.2019</td>\n",
       "      <td>7209113</td>\n",
       "      <td>-70.9846</td>\n",
       "      <td>43389561311270c553bb83a168a07a6b</td>\n",
       "      <td>[https://photos.renthop.com/2/7209113_f37eb785...</td>\n",
       "      <td>2709</td>\n",
       "      <td>550 Liberty Street</td>\n",
       "      <td>low</td>\n",
       "    </tr>\n",
       "    <tr>\n",
       "      <th>57131</th>\n",
       "      <td>1.0</td>\n",
       "      <td>1</td>\n",
       "      <td>2adec6e74a834940cde0f05a8684d08f</td>\n",
       "      <td>2016-05-28 03:50:27</td>\n",
       "      <td>Lenox Farms Apartments &amp; Town Homes of...</td>\n",
       "      <td>550 Liberty Street</td>\n",
       "      <td>[Fitness Center, Cats Allowed, Dogs Allowed]</td>\n",
       "      <td>42.2019</td>\n",
       "      <td>7079426</td>\n",
       "      <td>-70.9846</td>\n",
       "      <td>43389561311270c553bb83a168a07a6b</td>\n",
       "      <td>[https://photos.renthop.com/2/7079426_dc48b760...</td>\n",
       "      <td>2308</td>\n",
       "      <td>550 Liberty Street</td>\n",
       "      <td>low</td>\n",
       "    </tr>\n",
       "    <tr>\n",
       "      <th>62409</th>\n",
       "      <td>1.0</td>\n",
       "      <td>1</td>\n",
       "      <td>3dd500218fd52811b282f5af28a0961f</td>\n",
       "      <td>2016-05-06 04:27:33</td>\n",
       "      <td>Vacant</td>\n",
       "      <td>300 2nd Avenue</td>\n",
       "      <td>[Elevator, Fitness Center, Cats Allowed, Dogs ...</td>\n",
       "      <td>42.3033</td>\n",
       "      <td>6974621</td>\n",
       "      <td>-71.2133</td>\n",
       "      <td>602fee16546f42bfa81f4adc05261cfa</td>\n",
       "      <td>[https://photos.renthop.com/2/6974621_11136b2c...</td>\n",
       "      <td>2889</td>\n",
       "      <td>300 2nd Avenue</td>\n",
       "      <td>low</td>\n",
       "    </tr>\n",
       "    <tr>\n",
       "      <th>72896</th>\n",
       "      <td>1.0</td>\n",
       "      <td>0</td>\n",
       "      <td>2fc165040867a7c3694de4b4a63b1062</td>\n",
       "      <td>2016-05-07 10:34:35</td>\n",
       "      <td>Bright UES studio apartment! Only two flights ...</td>\n",
       "      <td>E 78th St  between First and York</td>\n",
       "      <td>[]</td>\n",
       "      <td>41.7530</td>\n",
       "      <td>6981117</td>\n",
       "      <td>-87.6134</td>\n",
       "      <td>ee89e559c627af61e8730ea4ad7011d6</td>\n",
       "      <td>[https://photos.renthop.com/2/6981117_2428e796...</td>\n",
       "      <td>2000</td>\n",
       "      <td>452 E 78th St #2A (First Ave &amp; York Ave)</td>\n",
       "      <td>low</td>\n",
       "    </tr>\n",
       "    <tr>\n",
       "      <th>73065</th>\n",
       "      <td>1.0</td>\n",
       "      <td>1</td>\n",
       "      <td>3dd500218fd52811b282f5af28a0961f</td>\n",
       "      <td>2016-05-24 04:08:19</td>\n",
       "      <td>Occupied</td>\n",
       "      <td>300 2nd Avenue</td>\n",
       "      <td>[Elevator, Fitness Center, Cats Allowed, Dogs ...</td>\n",
       "      <td>42.3033</td>\n",
       "      <td>7059785</td>\n",
       "      <td>-71.2133</td>\n",
       "      <td>602fee16546f42bfa81f4adc05261cfa</td>\n",
       "      <td>[]</td>\n",
       "      <td>3518</td>\n",
       "      <td>300 2nd Avenue</td>\n",
       "      <td>low</td>\n",
       "    </tr>\n",
       "    <tr>\n",
       "      <th>78568</th>\n",
       "      <td>3.0</td>\n",
       "      <td>3</td>\n",
       "      <td>cca9ed74339903b6d9c876a8e608d75b</td>\n",
       "      <td>2016-05-19 02:11:21</td>\n",
       "      <td>DYNAMIC DUPLEX!!!! Incredible 3 Bedroom, 3.5 B...</td>\n",
       "      <td>E 66th St, New York</td>\n",
       "      <td>[Fitness Center, Renovated, Walk in Closet(s),...</td>\n",
       "      <td>44.8835</td>\n",
       "      <td>7035661</td>\n",
       "      <td>-93.2705</td>\n",
       "      <td>223268168dc5049485bd70a19596730e</td>\n",
       "      <td>[https://photos.renthop.com/2/7035661_e224f454...</td>\n",
       "      <td>13875</td>\n",
       "      <td>400 E 66th St,New York</td>\n",
       "      <td>low</td>\n",
       "    </tr>\n",
       "    <tr>\n",
       "      <th>80360</th>\n",
       "      <td>2.0</td>\n",
       "      <td>3</td>\n",
       "      <td>de47025fe5e6d20a1360cb3efe8c8348</td>\n",
       "      <td>2016-05-27 03:52:12</td>\n",
       "      <td>Two wood burning fireplaces, three bal...</td>\n",
       "      <td>32 Garrison Street</td>\n",
       "      <td>[Elevator, Cats Allowed]</td>\n",
       "      <td>42.3459</td>\n",
       "      <td>7075183</td>\n",
       "      <td>-71.0794</td>\n",
       "      <td>6a393c2a7ce242d016fb0170ed19aa61</td>\n",
       "      <td>[https://photos.renthop.com/2/7075183_b60bc7f3...</td>\n",
       "      <td>6801</td>\n",
       "      <td>32 Garrison Street</td>\n",
       "      <td>low</td>\n",
       "    </tr>\n",
       "    <tr>\n",
       "      <th>81815</th>\n",
       "      <td>1.0</td>\n",
       "      <td>2</td>\n",
       "      <td>67d5728b505db14a586d79865b58fb24</td>\n",
       "      <td>2016-05-03 04:20:02</td>\n",
       "      <td>Beautiful, renovated and fully loaded 2 BR.&lt;br...</td>\n",
       "      <td>7916 19 Road</td>\n",
       "      <td>[Dining Room, Laundry in Unit, Dishwasher, Har...</td>\n",
       "      <td>42.8725</td>\n",
       "      <td>6957694</td>\n",
       "      <td>-73.4665</td>\n",
       "      <td>2b6d9435a0e6c4019e5ffcb53389c3dd</td>\n",
       "      <td>[https://photos.renthop.com/2/6957694_adac55f7...</td>\n",
       "      <td>2700</td>\n",
       "      <td>7916 19 Road</td>\n",
       "      <td>low</td>\n",
       "    </tr>\n",
       "    <tr>\n",
       "      <th>85995</th>\n",
       "      <td>1.0</td>\n",
       "      <td>1</td>\n",
       "      <td>3eac933a57e386d7e11a479c40cc0dd4</td>\n",
       "      <td>2016-04-30 03:49:17</td>\n",
       "      <td>corner unit. Lots of natural light, la...</td>\n",
       "      <td>30 Garrison Street</td>\n",
       "      <td>[Elevator, Cats Allowed, Dogs Allowed]</td>\n",
       "      <td>42.3459</td>\n",
       "      <td>6946575</td>\n",
       "      <td>-71.0794</td>\n",
       "      <td>c090563865adf7dd1c953e9d6bd65318</td>\n",
       "      <td>[https://photos.renthop.com/2/6946575_d6515ca4...</td>\n",
       "      <td>3698</td>\n",
       "      <td>30 Garrison Street</td>\n",
       "      <td>low</td>\n",
       "    </tr>\n",
       "    <tr>\n",
       "      <th>114889</th>\n",
       "      <td>2.0</td>\n",
       "      <td>2</td>\n",
       "      <td>2adec6e74a834940cde0f05a8684d08f</td>\n",
       "      <td>2016-04-21 04:36:16</td>\n",
       "      <td>T_208-421-1596&lt;br /&gt;kagglemanager@rent...</td>\n",
       "      <td>550 Liberty Street</td>\n",
       "      <td>[Fitness Center, Cats Allowed, Dogs Allowed]</td>\n",
       "      <td>42.2019</td>\n",
       "      <td>6906214</td>\n",
       "      <td>-70.9846</td>\n",
       "      <td>43389561311270c553bb83a168a07a6b</td>\n",
       "      <td>[https://photos.renthop.com/2/6906214_4ab3c74a...</td>\n",
       "      <td>2541</td>\n",
       "      <td>550 Liberty Street</td>\n",
       "      <td>low</td>\n",
       "    </tr>\n",
       "    <tr>\n",
       "      <th>117255</th>\n",
       "      <td>1.0</td>\n",
       "      <td>1</td>\n",
       "      <td>0</td>\n",
       "      <td>2016-04-06 13:27:48</td>\n",
       "      <td>One BHK apartment is on rent from 20th April, ...</td>\n",
       "      <td>176 Presidents lane</td>\n",
       "      <td>[Furnished, Parking Space, No Fee, Elevator, L...</td>\n",
       "      <td>42.2509</td>\n",
       "      <td>6834490</td>\n",
       "      <td>-71.0060</td>\n",
       "      <td>e6472c7237327dd3903b3d6f6a94515a</td>\n",
       "      <td>[https://photos.renthop.com/2/6834490_75f7d508...</td>\n",
       "      <td>1670</td>\n",
       "      <td>176 Presidents lane,Quincy,MA</td>\n",
       "      <td>low</td>\n",
       "    </tr>\n",
       "  </tbody>\n",
       "</table>\n",
       "</div>"
      ],
      "text/plain": [
       "        bathrooms  bedrooms                       building_id  \\\n",
       "872           1.0         2  de47025fe5e6d20a1360cb3efe8c8348   \n",
       "4719          2.0         2  51052daba3eae7ee4e27bf436f7eb5a9   \n",
       "16405         1.0         0  23b17bf6f7be64e3272b561cc0b65f5a   \n",
       "18267         1.0         2                                 0   \n",
       "24747         1.0         1  253df0eb4ce61b5bcb695a440606c58d   \n",
       "39046         1.0         1  2adec6e74a834940cde0f05a8684d08f   \n",
       "41022         2.0         2  2adec6e74a834940cde0f05a8684d08f   \n",
       "57131         1.0         1  2adec6e74a834940cde0f05a8684d08f   \n",
       "62409         1.0         1  3dd500218fd52811b282f5af28a0961f   \n",
       "72896         1.0         0  2fc165040867a7c3694de4b4a63b1062   \n",
       "73065         1.0         1  3dd500218fd52811b282f5af28a0961f   \n",
       "78568         3.0         3  cca9ed74339903b6d9c876a8e608d75b   \n",
       "80360         2.0         3  de47025fe5e6d20a1360cb3efe8c8348   \n",
       "81815         1.0         2  67d5728b505db14a586d79865b58fb24   \n",
       "85995         1.0         1  3eac933a57e386d7e11a479c40cc0dd4   \n",
       "114889        2.0         2  2adec6e74a834940cde0f05a8684d08f   \n",
       "117255        1.0         1                                 0   \n",
       "\n",
       "                    created  \\\n",
       "872     2016-06-11 06:44:25   \n",
       "4719    2016-06-27 02:48:10   \n",
       "16405   2016-06-22 23:17:24   \n",
       "18267   2016-06-29 02:30:45   \n",
       "24747   2016-06-12 03:46:05   \n",
       "39046   2016-06-16 04:28:15   \n",
       "41022   2016-06-24 05:28:35   \n",
       "57131   2016-05-28 03:50:27   \n",
       "62409   2016-05-06 04:27:33   \n",
       "72896   2016-05-07 10:34:35   \n",
       "73065   2016-05-24 04:08:19   \n",
       "78568   2016-05-19 02:11:21   \n",
       "80360   2016-05-27 03:52:12   \n",
       "81815   2016-05-03 04:20:02   \n",
       "85995   2016-04-30 03:49:17   \n",
       "114889  2016-04-21 04:36:16   \n",
       "117255  2016-04-06 13:27:48   \n",
       "\n",
       "                                              description  \\\n",
       "872             Spacious two bedroom, corner unit with...   \n",
       "4719    Super Spacious Renovated 2BR/2BATH with Home O...   \n",
       "16405                                                       \n",
       "18267   Huge bedrooms, windows in every room! Hard woo...   \n",
       "24747           Stunning one bedroom apartment with dr...   \n",
       "39046           Lenox Farms Apartments & Town Homes of...   \n",
       "41022           Lenox Farms Apartments & Town Homes of...   \n",
       "57131           Lenox Farms Apartments & Town Homes of...   \n",
       "62409                                              Vacant   \n",
       "72896   Bright UES studio apartment! Only two flights ...   \n",
       "73065                                            Occupied   \n",
       "78568   DYNAMIC DUPLEX!!!! Incredible 3 Bedroom, 3.5 B...   \n",
       "80360           Two wood burning fireplaces, three bal...   \n",
       "81815   Beautiful, renovated and fully loaded 2 BR.<br...   \n",
       "85995           corner unit. Lots of natural light, la...   \n",
       "114889          T_208-421-1596<br />kagglemanager@rent...   \n",
       "117255  One BHK apartment is on rent from 20th April, ...   \n",
       "\n",
       "                             display_address  \\\n",
       "872                       32 Garrison Street   \n",
       "4719                               84 Street   \n",
       "16405                Riverside Dr/ 90 Street   \n",
       "18267                          1st Ave. Loop   \n",
       "24747                  56 St. Botolph Street   \n",
       "39046                     550 Liberty Street   \n",
       "41022                     550 Liberty Street   \n",
       "57131                     550 Liberty Street   \n",
       "62409                         300 2nd Avenue   \n",
       "72896    E 78th St  between First and York     \n",
       "73065                         300 2nd Avenue   \n",
       "78568                   E 66th St, New York    \n",
       "80360                     32 Garrison Street   \n",
       "81815                           7916 19 Road   \n",
       "85995                     30 Garrison Street   \n",
       "114889                    550 Liberty Street   \n",
       "117255                   176 Presidents lane   \n",
       "\n",
       "                                                 features  latitude  \\\n",
       "872                [Elevator, Cats Allowed, Dogs Allowed]   42.3459   \n",
       "4719    [Private Outdoor Space, Dishwasher, Hardwood F...   42.8724   \n",
       "16405   [Furnished, Common Outdoor Space, Air Conditio...   44.6038   \n",
       "18267   [Elevator, Laundry in Building, Dishwasher, Ha...   43.0346   \n",
       "24747              [Elevator, Cats Allowed, Dogs Allowed]   42.3459   \n",
       "39046        [Fitness Center, Cats Allowed, Dogs Allowed]   42.2019   \n",
       "41022        [Fitness Center, Cats Allowed, Dogs Allowed]   42.2019   \n",
       "57131        [Fitness Center, Cats Allowed, Dogs Allowed]   42.2019   \n",
       "62409   [Elevator, Fitness Center, Cats Allowed, Dogs ...   42.3033   \n",
       "72896                                                  []   41.7530   \n",
       "73065   [Elevator, Fitness Center, Cats Allowed, Dogs ...   42.3033   \n",
       "78568   [Fitness Center, Renovated, Walk in Closet(s),...   44.8835   \n",
       "80360                            [Elevator, Cats Allowed]   42.3459   \n",
       "81815   [Dining Room, Laundry in Unit, Dishwasher, Har...   42.8725   \n",
       "85995              [Elevator, Cats Allowed, Dogs Allowed]   42.3459   \n",
       "114889       [Fitness Center, Cats Allowed, Dogs Allowed]   42.2019   \n",
       "117255  [Furnished, Parking Space, No Fee, Elevator, L...   42.2509   \n",
       "\n",
       "        listing_id  longitude                        manager_id  \\\n",
       "872        7143730   -71.0794  c090563865adf7dd1c953e9d6bd65318   \n",
       "4719       7221153   -73.4662  5856ea690d343df5f3bc66315babb280   \n",
       "16405      7202226   -75.1773  7a3570a25df3d87f6520bfe770473d58   \n",
       "18267      7229074   -76.6336  f44a6215f74f901ac7e326207f2984f7   \n",
       "24747      7146153   -71.0794  6a393c2a7ce242d016fb0170ed19aa61   \n",
       "39046      7169135   -70.9846  50ef6c51bfe99f33e459ab902190e87f   \n",
       "41022      7209113   -70.9846  43389561311270c553bb83a168a07a6b   \n",
       "57131      7079426   -70.9846  43389561311270c553bb83a168a07a6b   \n",
       "62409      6974621   -71.2133  602fee16546f42bfa81f4adc05261cfa   \n",
       "72896      6981117   -87.6134  ee89e559c627af61e8730ea4ad7011d6   \n",
       "73065      7059785   -71.2133  602fee16546f42bfa81f4adc05261cfa   \n",
       "78568      7035661   -93.2705  223268168dc5049485bd70a19596730e   \n",
       "80360      7075183   -71.0794  6a393c2a7ce242d016fb0170ed19aa61   \n",
       "81815      6957694   -73.4665  2b6d9435a0e6c4019e5ffcb53389c3dd   \n",
       "85995      6946575   -71.0794  c090563865adf7dd1c953e9d6bd65318   \n",
       "114889     6906214   -70.9846  43389561311270c553bb83a168a07a6b   \n",
       "117255     6834490   -71.0060  e6472c7237327dd3903b3d6f6a94515a   \n",
       "\n",
       "                                                   photos  price  \\\n",
       "872     [https://photos.renthop.com/2/7143730_775991d2...   4186   \n",
       "4719    [https://photos.renthop.com/2/7221153_0160c1e4...   2300   \n",
       "16405   [https://photos.renthop.com/2/7202226_a5b38334...   1350   \n",
       "18267   [https://photos.renthop.com/2/7229074_14de73ea...   3300   \n",
       "24747   [https://photos.renthop.com/2/7146153_6c1b933d...   4123   \n",
       "39046   [https://photos.renthop.com/2/7169135_9a47ffdd...   2140   \n",
       "41022   [https://photos.renthop.com/2/7209113_f37eb785...   2709   \n",
       "57131   [https://photos.renthop.com/2/7079426_dc48b760...   2308   \n",
       "62409   [https://photos.renthop.com/2/6974621_11136b2c...   2889   \n",
       "72896   [https://photos.renthop.com/2/6981117_2428e796...   2000   \n",
       "73065                                                  []   3518   \n",
       "78568   [https://photos.renthop.com/2/7035661_e224f454...  13875   \n",
       "80360   [https://photos.renthop.com/2/7075183_b60bc7f3...   6801   \n",
       "81815   [https://photos.renthop.com/2/6957694_adac55f7...   2700   \n",
       "85995   [https://photos.renthop.com/2/6946575_d6515ca4...   3698   \n",
       "114889  [https://photos.renthop.com/2/6906214_4ab3c74a...   2541   \n",
       "117255  [https://photos.renthop.com/2/6834490_75f7d508...   1670   \n",
       "\n",
       "                                  street_address interest_level  \n",
       "872                           32 Garrison Street            low  \n",
       "4719                              1844 84 Street            low  \n",
       "16405                    Riverside Dr/ 90 Street         medium  \n",
       "18267                          250 1st Ave. Loop            low  \n",
       "24747                      56 St. Botolph Street            low  \n",
       "39046                         550 Liberty Street            low  \n",
       "41022                         550 Liberty Street            low  \n",
       "57131                         550 Liberty Street            low  \n",
       "62409                             300 2nd Avenue            low  \n",
       "72896   452 E 78th St #2A (First Ave & York Ave)            low  \n",
       "73065                             300 2nd Avenue            low  \n",
       "78568                    400 E 66th St,New York             low  \n",
       "80360                         32 Garrison Street            low  \n",
       "81815                               7916 19 Road            low  \n",
       "85995                         30 Garrison Street            low  \n",
       "114889                        550 Liberty Street            low  \n",
       "117255             176 Presidents lane,Quincy,MA            low  "
      ]
     },
     "metadata": {},
     "output_type": "display_data"
    }
   ],
   "source": [
    "display(train_df[train_df['latitude'] < 39.75])\n",
    "display(train_df[train_df['latitude'] > 41.75])"
   ]
  },
  {
   "cell_type": "markdown",
   "id": "db5ab7e2",
   "metadata": {},
   "source": [
    "Есть определенное количество объявлений с широтой больше 42, которые соответствуют Бостону. Удалим эти объявления.\n",
    "\n",
    "Объявления с нулевыми координатами, судя по адресам, все в Нью-Йорке. Заменим их координаты на моду по всем объявлениям."
   ]
  },
  {
   "cell_type": "code",
   "execution_count": 13,
   "id": "fe86108c",
   "metadata": {},
   "outputs": [],
   "source": [
    "train_df = train_df.query(\"latitude < 41.75\")"
   ]
  },
  {
   "cell_type": "code",
   "execution_count": 14,
   "id": "5c8ab263",
   "metadata": {},
   "outputs": [],
   "source": [
    "train_df.loc[train_df.latitude < 39.75, 'longitude'] = train_df['longitude'].mode()[0]\n",
    "train_df.loc[train_df.latitude < 39.75, 'latitude'] = train_df['latitude'].mode()[0]"
   ]
  },
  {
   "cell_type": "code",
   "execution_count": 15,
   "id": "d266e9b1",
   "metadata": {},
   "outputs": [
    {
     "data": {
      "text/html": [
       "<div>\n",
       "<style scoped>\n",
       "    .dataframe tbody tr th:only-of-type {\n",
       "        vertical-align: middle;\n",
       "    }\n",
       "\n",
       "    .dataframe tbody tr th {\n",
       "        vertical-align: top;\n",
       "    }\n",
       "\n",
       "    .dataframe thead th {\n",
       "        text-align: right;\n",
       "    }\n",
       "</style>\n",
       "<table border=\"1\" class=\"dataframe\">\n",
       "  <thead>\n",
       "    <tr style=\"text-align: right;\">\n",
       "      <th></th>\n",
       "      <th>bathrooms</th>\n",
       "      <th>bedrooms</th>\n",
       "      <th>building_id</th>\n",
       "      <th>created</th>\n",
       "      <th>description</th>\n",
       "      <th>display_address</th>\n",
       "      <th>features</th>\n",
       "      <th>latitude</th>\n",
       "      <th>listing_id</th>\n",
       "      <th>longitude</th>\n",
       "      <th>manager_id</th>\n",
       "      <th>photos</th>\n",
       "      <th>price</th>\n",
       "      <th>street_address</th>\n",
       "      <th>interest_level</th>\n",
       "    </tr>\n",
       "  </thead>\n",
       "  <tbody>\n",
       "    <tr>\n",
       "      <th>104822</th>\n",
       "      <td>1.0</td>\n",
       "      <td>0</td>\n",
       "      <td>437454e6d44ae7c94f60b1b6507d084a</td>\n",
       "      <td>2016-04-16 02:10:48</td>\n",
       "      <td>NEWLY RENOVATED BEAUTIFUL SPACIOUS HUGE STUDIO...</td>\n",
       "      <td>E 46th St,</td>\n",
       "      <td>[Doorman, Elevator, Walk in Closet(s), High Ce...</td>\n",
       "      <td>39.8395</td>\n",
       "      <td>6881361</td>\n",
       "      <td>-86.1527</td>\n",
       "      <td>8439c2c1ab6949a7447b00971e2f73a9</td>\n",
       "      <td>[https://photos.renthop.com/2/6881361_f8efe79e...</td>\n",
       "      <td>2650</td>\n",
       "      <td>235 E 46th St,</td>\n",
       "      <td>low</td>\n",
       "    </tr>\n",
       "    <tr>\n",
       "      <th>114028</th>\n",
       "      <td>1.0</td>\n",
       "      <td>1</td>\n",
       "      <td>6869a3c2a96003e9992d6cd1c3c4b299</td>\n",
       "      <td>2016-04-07 01:41:55</td>\n",
       "      <td>Come for the studio apartment but stay for all...</td>\n",
       "      <td>Modern Studio in Amenity Filled 24 Hr. DM Bldg.</td>\n",
       "      <td>[Cats Allowed, Dogs Allowed, Doorman, Elevator...</td>\n",
       "      <td>40.0450</td>\n",
       "      <td>6836479</td>\n",
       "      <td>-75.5214</td>\n",
       "      <td>c3b7c269756b10a84641f04868f30db1</td>\n",
       "      <td>[https://photos.renthop.com/2/6836479_2a5daff5...</td>\n",
       "      <td>2895</td>\n",
       "      <td>271 West 47TH Street</td>\n",
       "      <td>low</td>\n",
       "    </tr>\n",
       "  </tbody>\n",
       "</table>\n",
       "</div>"
      ],
      "text/plain": [
       "        bathrooms  bedrooms                       building_id  \\\n",
       "104822        1.0         0  437454e6d44ae7c94f60b1b6507d084a   \n",
       "114028        1.0         1  6869a3c2a96003e9992d6cd1c3c4b299   \n",
       "\n",
       "                    created  \\\n",
       "104822  2016-04-16 02:10:48   \n",
       "114028  2016-04-07 01:41:55   \n",
       "\n",
       "                                              description  \\\n",
       "104822  NEWLY RENOVATED BEAUTIFUL SPACIOUS HUGE STUDIO...   \n",
       "114028  Come for the studio apartment but stay for all...   \n",
       "\n",
       "                                        display_address  \\\n",
       "104822                                       E 46th St,   \n",
       "114028  Modern Studio in Amenity Filled 24 Hr. DM Bldg.   \n",
       "\n",
       "                                                 features  latitude  \\\n",
       "104822  [Doorman, Elevator, Walk in Closet(s), High Ce...   39.8395   \n",
       "114028  [Cats Allowed, Dogs Allowed, Doorman, Elevator...   40.0450   \n",
       "\n",
       "        listing_id  longitude                        manager_id  \\\n",
       "104822     6881361   -86.1527  8439c2c1ab6949a7447b00971e2f73a9   \n",
       "114028     6836479   -75.5214  c3b7c269756b10a84641f04868f30db1   \n",
       "\n",
       "                                                   photos  price  \\\n",
       "104822  [https://photos.renthop.com/2/6881361_f8efe79e...   2650   \n",
       "114028  [https://photos.renthop.com/2/6836479_2a5daff5...   2895   \n",
       "\n",
       "              street_address interest_level  \n",
       "104822        235 E 46th St,            low  \n",
       "114028  271 West 47TH Street            low  "
      ]
     },
     "metadata": {},
     "output_type": "display_data"
    },
    {
     "data": {
      "text/html": [
       "<div>\n",
       "<style scoped>\n",
       "    .dataframe tbody tr th:only-of-type {\n",
       "        vertical-align: middle;\n",
       "    }\n",
       "\n",
       "    .dataframe tbody tr th {\n",
       "        vertical-align: top;\n",
       "    }\n",
       "\n",
       "    .dataframe thead th {\n",
       "        text-align: right;\n",
       "    }\n",
       "</style>\n",
       "<table border=\"1\" class=\"dataframe\">\n",
       "  <thead>\n",
       "    <tr style=\"text-align: right;\">\n",
       "      <th></th>\n",
       "      <th>bathrooms</th>\n",
       "      <th>bedrooms</th>\n",
       "      <th>building_id</th>\n",
       "      <th>created</th>\n",
       "      <th>description</th>\n",
       "      <th>display_address</th>\n",
       "      <th>features</th>\n",
       "      <th>latitude</th>\n",
       "      <th>listing_id</th>\n",
       "      <th>longitude</th>\n",
       "      <th>manager_id</th>\n",
       "      <th>photos</th>\n",
       "      <th>price</th>\n",
       "      <th>street_address</th>\n",
       "      <th>interest_level</th>\n",
       "    </tr>\n",
       "  </thead>\n",
       "  <tbody>\n",
       "    <tr>\n",
       "      <th>17977</th>\n",
       "      <td>4.5</td>\n",
       "      <td>5</td>\n",
       "      <td>7a85008dcef07df0a46dd3a03f76252b</td>\n",
       "      <td>2016-06-06 01:20:23</td>\n",
       "      <td>&lt;p class='MsoNormal'&gt;Perched atop a bluff on a...</td>\n",
       "      <td>Bluff Road</td>\n",
       "      <td>[Swimming Pool, Furnished]</td>\n",
       "      <td>40.9697</td>\n",
       "      <td>7114598</td>\n",
       "      <td>-72.1336</td>\n",
       "      <td>61cc4d884e6cfafed2000b1282db7cdb</td>\n",
       "      <td>[https://photos.renthop.com/2/7114598_86f50e55...</td>\n",
       "      <td>25000</td>\n",
       "      <td>336  Bluff Road</td>\n",
       "      <td>low</td>\n",
       "    </tr>\n",
       "  </tbody>\n",
       "</table>\n",
       "</div>"
      ],
      "text/plain": [
       "       bathrooms  bedrooms                       building_id  \\\n",
       "17977        4.5         5  7a85008dcef07df0a46dd3a03f76252b   \n",
       "\n",
       "                   created                                        description  \\\n",
       "17977  2016-06-06 01:20:23  <p class='MsoNormal'>Perched atop a bluff on a...   \n",
       "\n",
       "      display_address                    features  latitude  listing_id  \\\n",
       "17977      Bluff Road  [Swimming Pool, Furnished]   40.9697     7114598   \n",
       "\n",
       "       longitude                        manager_id  \\\n",
       "17977   -72.1336  61cc4d884e6cfafed2000b1282db7cdb   \n",
       "\n",
       "                                                  photos  price  \\\n",
       "17977  [https://photos.renthop.com/2/7114598_86f50e55...  25000   \n",
       "\n",
       "        street_address interest_level  \n",
       "17977  336  Bluff Road            low  "
      ]
     },
     "metadata": {},
     "output_type": "display_data"
    }
   ],
   "source": [
    "display(train_df[train_df['longitude'] < -75])\n",
    "display(train_df[train_df['longitude'] > -73])"
   ]
  },
  {
   "cell_type": "markdown",
   "id": "507941d6",
   "metadata": {},
   "source": [
    "Оставшиеся выбросы по долготе удалим."
   ]
  },
  {
   "cell_type": "code",
   "execution_count": 16,
   "id": "50088b5a",
   "metadata": {},
   "outputs": [],
   "source": [
    "train_df = train_df.query(\"-73 > longitude > -75\")"
   ]
  },
  {
   "cell_type": "markdown",
   "id": "1e5abfce",
   "metadata": {},
   "source": [
    "4. **price**"
   ]
  },
  {
   "cell_type": "code",
   "execution_count": 17,
   "id": "75b2fa04",
   "metadata": {},
   "outputs": [
    {
     "data": {
      "image/png": "[encoded data removed]",
      "text/plain": [
       "<Figure size 432x288 with 1 Axes>"
      ]
     },
     "metadata": {
      "needs_background": "light"
     },
     "output_type": "display_data"
    }
   ],
   "source": [
    "train_df['price'].hist()\n",
    "plt.show()"
   ]
  },
  {
   "cell_type": "code",
   "execution_count": 18,
   "id": "3bb9a218",
   "metadata": {},
   "outputs": [
    {
     "data": {
      "text/plain": [
       "count    4.932600e+04\n",
       "mean     3.828256e+03\n",
       "std      2.207088e+04\n",
       "min      4.300000e+01\n",
       "25%      2.500000e+03\n",
       "50%      3.150000e+03\n",
       "75%      4.100000e+03\n",
       "max      4.490000e+06\n",
       "Name: price, dtype: float64"
      ]
     },
     "execution_count": 18,
     "metadata": {},
     "output_type": "execute_result"
    }
   ],
   "source": [
    "train_df['price'].describe()"
   ]
  },
  {
   "cell_type": "markdown",
   "id": "7f6c4bc6",
   "metadata": {},
   "source": [
    "Удалим выбросы и построим ещё раз"
   ]
  },
  {
   "cell_type": "code",
   "execution_count": 19,
   "id": "be1c12a1",
   "metadata": {},
   "outputs": [],
   "source": [
    "train_df = train_df.query(\"price < 15000\")"
   ]
  },
  {
   "cell_type": "code",
   "execution_count": 20,
   "id": "1a4f566f",
   "metadata": {},
   "outputs": [
    {
     "data": {
      "image/png": "[encoded data removed]",
      "text/plain": [
       "<Figure size 432x288 with 1 Axes>"
      ]
     },
     "metadata": {
      "needs_background": "light"
     },
     "output_type": "display_data"
    }
   ],
   "source": [
    "train_df['price'].hist(bins=50)\n",
    "plt.show()"
   ]
  },
  {
   "cell_type": "markdown",
   "id": "47034395",
   "metadata": {},
   "source": [
    "5. **photos**"
   ]
  },
  {
   "cell_type": "markdown",
   "id": "77153263",
   "metadata": {},
   "source": [
    "На основе фотографий создадим количественный признак \"количество фотографий\""
   ]
  },
  {
   "cell_type": "code",
   "execution_count": 21,
   "id": "4efc2506",
   "metadata": {},
   "outputs": [],
   "source": [
    "train_df[\"n_photos\"] = train_df[\"photos\"].apply(len)\n",
    "test_df[\"n_photos\"] = test_df[\"photos\"].apply(len)"
   ]
  },
  {
   "cell_type": "code",
   "execution_count": 22,
   "id": "7c40d552",
   "metadata": {},
   "outputs": [
    {
     "data": {
      "image/png": "[encoded data removed]",
      "text/plain": [
       "<Figure size 432x288 with 1 Axes>"
      ]
     },
     "metadata": {
      "needs_background": "light"
     },
     "output_type": "display_data"
    }
   ],
   "source": [
    "train_df[\"n_photos\"].hist(bins=50)\n",
    "plt.show()"
   ]
  },
  {
   "cell_type": "markdown",
   "id": "f1d6a4b1",
   "metadata": {},
   "source": [
    "В основном в объявлениях не больше 20 фотографий, но есть объявления, где фотографий больше. Для обучения модели удалим сильные выбросы."
   ]
  },
  {
   "cell_type": "code",
   "execution_count": 23,
   "id": "930b562d",
   "metadata": {},
   "outputs": [],
   "source": [
    "train_df = train_df.query(\"n_photos < 30\")"
   ]
  },
  {
   "cell_type": "markdown",
   "id": "8dd18eea",
   "metadata": {},
   "source": [
    "6. **features**"
   ]
  },
  {
   "cell_type": "markdown",
   "id": "5aead172",
   "metadata": {},
   "source": [
    "Так же, как и с фотографиями, создадим признак \"количество удобств\""
   ]
  },
  {
   "cell_type": "code",
   "execution_count": 24,
   "id": "65dc05fa",
   "metadata": {},
   "outputs": [],
   "source": [
    "train_df[\"n_features\"] = train_df[\"features\"].apply(len)\n",
    "test_df[\"n_features\"] = test_df[\"features\"].apply(len)"
   ]
  },
  {
   "cell_type": "code",
   "execution_count": 25,
   "id": "6de6f11c",
   "metadata": {},
   "outputs": [
    {
     "data": {
      "image/png": "[encoded data removed]",
      "text/plain": [
       "<Figure size 432x288 with 1 Axes>"
      ]
     },
     "metadata": {
      "needs_background": "light"
     },
     "output_type": "display_data"
    }
   ],
   "source": [
    "train_df[\"n_features\"].hist(bins=20)\n",
    "plt.show()"
   ]
  },
  {
   "cell_type": "markdown",
   "id": "e9f4f37f",
   "metadata": {},
   "source": [
    "Ограничим количество удобств в квартире 25."
   ]
  },
  {
   "cell_type": "code",
   "execution_count": 26,
   "id": "69cf1ad4",
   "metadata": {},
   "outputs": [],
   "source": [
    "train_df = train_df.query(\"n_features < 25\")"
   ]
  },
  {
   "cell_type": "markdown",
   "id": "6c084ae9",
   "metadata": {},
   "source": [
    "7. **discription**"
   ]
  },
  {
   "cell_type": "markdown",
   "id": "4537d9d5",
   "metadata": {},
   "source": [
    "Зададим признак длины описания квартиры \"количество слов в описании\""
   ]
  },
  {
   "cell_type": "code",
   "execution_count": 27,
   "id": "683fa6cf",
   "metadata": {},
   "outputs": [],
   "source": [
    "train_df[\"num_description_words\"] = train_df[\"description\"].apply(lambda x: len(x.split(\" \")))\n",
    "test_df[\"num_description_words\"] = test_df[\"description\"].apply(lambda x: len(x.split(\" \")))"
   ]
  },
  {
   "cell_type": "markdown",
   "id": "60726aeb",
   "metadata": {},
   "source": [
    "8. **manager_id**"
   ]
  },
  {
   "cell_type": "code",
   "execution_count": 28,
   "id": "23b7e9e6",
   "metadata": {},
   "outputs": [],
   "source": [
    "managers = train_df.pivot_table(values='bedrooms', index='manager_id', columns='interest_level', aggfunc='count').fillna(0)\n",
    "managers.columns = ['high', 'low', 'medium']\n",
    "managers['count'] = train_df.groupby('manager_id').count()['bedrooms']"
   ]
  },
  {
   "cell_type": "code",
   "execution_count": 29,
   "id": "2d7cf7d1",
   "metadata": {},
   "outputs": [
    {
     "data": {
      "text/html": [
       "<div>\n",
       "<style scoped>\n",
       "    .dataframe tbody tr th:only-of-type {\n",
       "        vertical-align: middle;\n",
       "    }\n",
       "\n",
       "    .dataframe tbody tr th {\n",
       "        vertical-align: top;\n",
       "    }\n",
       "\n",
       "    .dataframe thead th {\n",
       "        text-align: right;\n",
       "    }\n",
       "</style>\n",
       "<table border=\"1\" class=\"dataframe\">\n",
       "  <thead>\n",
       "    <tr style=\"text-align: right;\">\n",
       "      <th></th>\n",
       "      <th>high</th>\n",
       "      <th>low</th>\n",
       "      <th>medium</th>\n",
       "      <th>count</th>\n",
       "    </tr>\n",
       "    <tr>\n",
       "      <th>manager_id</th>\n",
       "      <th></th>\n",
       "      <th></th>\n",
       "      <th></th>\n",
       "      <th></th>\n",
       "    </tr>\n",
       "  </thead>\n",
       "  <tbody>\n",
       "    <tr>\n",
       "      <th>0000abd7518b94c35a90d64b56fbf3e6</th>\n",
       "      <td>0.0</td>\n",
       "      <td>4.0</td>\n",
       "      <td>8.0</td>\n",
       "      <td>12</td>\n",
       "    </tr>\n",
       "    <tr>\n",
       "      <th>001ce808ce1720e24a9510e014c69707</th>\n",
       "      <td>0.0</td>\n",
       "      <td>10.0</td>\n",
       "      <td>0.0</td>\n",
       "      <td>10</td>\n",
       "    </tr>\n",
       "    <tr>\n",
       "      <th>003fc4e9a70053082f131b1054966aaf</th>\n",
       "      <td>0.0</td>\n",
       "      <td>1.0</td>\n",
       "      <td>0.0</td>\n",
       "      <td>1</td>\n",
       "    </tr>\n",
       "    <tr>\n",
       "      <th>00607a02f6efd9c6c7c588826e471ee9</th>\n",
       "      <td>0.0</td>\n",
       "      <td>0.0</td>\n",
       "      <td>2.0</td>\n",
       "      <td>2</td>\n",
       "    </tr>\n",
       "    <tr>\n",
       "      <th>00995ff28d79127ed2dca8320e9e7d09</th>\n",
       "      <td>0.0</td>\n",
       "      <td>2.0</td>\n",
       "      <td>1.0</td>\n",
       "      <td>3</td>\n",
       "    </tr>\n",
       "  </tbody>\n",
       "</table>\n",
       "</div>"
      ],
      "text/plain": [
       "                                  high   low  medium  count\n",
       "manager_id                                                 \n",
       "0000abd7518b94c35a90d64b56fbf3e6   0.0   4.0     8.0     12\n",
       "001ce808ce1720e24a9510e014c69707   0.0  10.0     0.0     10\n",
       "003fc4e9a70053082f131b1054966aaf   0.0   1.0     0.0      1\n",
       "00607a02f6efd9c6c7c588826e471ee9   0.0   0.0     2.0      2\n",
       "00995ff28d79127ed2dca8320e9e7d09   0.0   2.0     1.0      3"
      ]
     },
     "execution_count": 29,
     "metadata": {},
     "output_type": "execute_result"
    }
   ],
   "source": [
    "managers.head()"
   ]
  },
  {
   "cell_type": "code",
   "execution_count": 30,
   "id": "271a9c78",
   "metadata": {},
   "outputs": [],
   "source": [
    "def means(row):\n",
    "    row['high'] = row['high']/row['count']\n",
    "    row['low'] = row['low']/row['count']\n",
    "    row['medium'] = row['medium']/row['count']\n",
    "    return row"
   ]
  },
  {
   "cell_type": "code",
   "execution_count": 31,
   "id": "41d934fa",
   "metadata": {},
   "outputs": [],
   "source": [
    "managers = managers.apply(means, axis=1)\n",
    "managers['manager_skill'] = managers['high']*2 + managers['medium']\n",
    "managers = managers.query('count >= 15')\n",
    "mean_skill = managers['manager_skill'].mean()\n",
    "managers = managers['manager_skill']\n",
    "managers = managers.reset_index()"
   ]
  },
  {
   "cell_type": "code",
   "execution_count": 32,
   "id": "4cfa95f1",
   "metadata": {},
   "outputs": [
    {
     "data": {
      "text/html": [
       "<div>\n",
       "<style scoped>\n",
       "    .dataframe tbody tr th:only-of-type {\n",
       "        vertical-align: middle;\n",
       "    }\n",
       "\n",
       "    .dataframe tbody tr th {\n",
       "        vertical-align: top;\n",
       "    }\n",
       "\n",
       "    .dataframe thead th {\n",
       "        text-align: right;\n",
       "    }\n",
       "</style>\n",
       "<table border=\"1\" class=\"dataframe\">\n",
       "  <thead>\n",
       "    <tr style=\"text-align: right;\">\n",
       "      <th></th>\n",
       "      <th>manager_id</th>\n",
       "      <th>manager_skill</th>\n",
       "    </tr>\n",
       "  </thead>\n",
       "  <tbody>\n",
       "    <tr>\n",
       "      <th>0</th>\n",
       "      <td>0176ff9c2592a72403fca7904a582345</td>\n",
       "      <td>0.222222</td>\n",
       "    </tr>\n",
       "    <tr>\n",
       "      <th>1</th>\n",
       "      <td>0246857142b0b3318d5b518f05bca11b</td>\n",
       "      <td>0.000000</td>\n",
       "    </tr>\n",
       "    <tr>\n",
       "      <th>2</th>\n",
       "      <td>0299c9da66d8302ccb5f9d43b877150e</td>\n",
       "      <td>0.800000</td>\n",
       "    </tr>\n",
       "    <tr>\n",
       "      <th>3</th>\n",
       "      <td>02c121bbdb886138684baa6863b112fa</td>\n",
       "      <td>0.133333</td>\n",
       "    </tr>\n",
       "    <tr>\n",
       "      <th>4</th>\n",
       "      <td>02e17b21a1814fb10336b2ee8ceb3e79</td>\n",
       "      <td>0.535294</td>\n",
       "    </tr>\n",
       "  </tbody>\n",
       "</table>\n",
       "</div>"
      ],
      "text/plain": [
       "                         manager_id  manager_skill\n",
       "0  0176ff9c2592a72403fca7904a582345       0.222222\n",
       "1  0246857142b0b3318d5b518f05bca11b       0.000000\n",
       "2  0299c9da66d8302ccb5f9d43b877150e       0.800000\n",
       "3  02c121bbdb886138684baa6863b112fa       0.133333\n",
       "4  02e17b21a1814fb10336b2ee8ceb3e79       0.535294"
      ]
     },
     "execution_count": 32,
     "metadata": {},
     "output_type": "execute_result"
    }
   ],
   "source": [
    "managers.head()"
   ]
  },
  {
   "cell_type": "code",
   "execution_count": 33,
   "id": "30b7a005",
   "metadata": {},
   "outputs": [],
   "source": [
    "train_df = train_df.merge(managers, how='left', on='manager_id')\n",
    "train_df = train_df.fillna(mean_skill)"
   ]
  },
  {
   "cell_type": "code",
   "execution_count": 34,
   "id": "c1737488",
   "metadata": {},
   "outputs": [],
   "source": [
    "test_df = test_df.merge(managers, how='left', on='manager_id')\n",
    "test_df = test_df.fillna(mean_skill)"
   ]
  },
  {
   "cell_type": "markdown",
   "id": "9ffb0b5a",
   "metadata": {},
   "source": [
    "### Категориальные признаки"
   ]
  },
  {
   "cell_type": "markdown",
   "id": "4acf66ac",
   "metadata": {},
   "source": [
    "В качестве категориальных признаков у нас имеются building_id и manager_id, но мы так же отнесем к категориальным признакам название улицы display_address.\n",
    "\n",
    "Посмотрим на количество уникальных значений для для каждого из признаков"
   ]
  },
  {
   "cell_type": "code",
   "execution_count": 35,
   "id": "6198c1b9",
   "metadata": {},
   "outputs": [],
   "source": [
    "cat_features = [\"building_id\", \"manager_id\", \"display_address\"]"
   ]
  },
  {
   "cell_type": "code",
   "execution_count": 36,
   "id": "acba9360",
   "metadata": {},
   "outputs": [
    {
     "name": "stdout",
     "output_type": "stream",
     "text": [
      "7513\n",
      "3453\n",
      "8760\n"
     ]
    }
   ],
   "source": [
    "print(len(train_df['building_id'].unique()))\n",
    "print(len(train_df['manager_id'].unique()))\n",
    "print(len(train_df['display_address'].unique()))"
   ]
  },
  {
   "cell_type": "markdown",
   "id": "16cb57f2",
   "metadata": {},
   "source": [
    "Значений достаточно много, если использовать One Hot Encoder, то будет очень много признаков. Поэтому используем Ordinal Encoder."
   ]
  },
  {
   "cell_type": "code",
   "execution_count": 37,
   "id": "e3e5b18a",
   "metadata": {},
   "outputs": [],
   "source": [
    "categorical_train = train_df[[\"building_id\", \"manager_id\", \"display_address\"]]\n",
    "categorical_test = test_df[[\"building_id\", \"manager_id\", \"display_address\"]]\n",
    "fit_df = pd.concat([categorical_test, categorical_train])"
   ]
  },
  {
   "cell_type": "code",
   "execution_count": 38,
   "id": "9e9a1e63",
   "metadata": {},
   "outputs": [
    {
     "data": {
      "text/plain": [
       "OrdinalEncoder()"
      ]
     },
     "execution_count": 38,
     "metadata": {},
     "output_type": "execute_result"
    }
   ],
   "source": [
    "enc = OrdinalEncoder()\n",
    "enc.fit(fit_df)"
   ]
  },
  {
   "cell_type": "code",
   "execution_count": 39,
   "id": "b58642d8",
   "metadata": {},
   "outputs": [],
   "source": [
    "train_enc = pd.DataFrame(enc.transform(categorical_train),\n",
    "                            columns=categorical_train.columns)\n",
    "test_enc = pd.DataFrame(enc.transform(categorical_test),\n",
    "                            columns=categorical_test.columns)"
   ]
  },
  {
   "cell_type": "code",
   "execution_count": 40,
   "id": "b00010a1",
   "metadata": {},
   "outputs": [],
   "source": [
    "for f in cat_features:\n",
    "    train_df[f] = train_enc[f]\n",
    "    test_df[f] = test_enc[f]"
   ]
  },
  {
   "cell_type": "markdown",
   "id": "df342fe8",
   "metadata": {},
   "source": [
    "### Дата"
   ]
  },
  {
   "cell_type": "markdown",
   "id": "387f6b6b",
   "metadata": {},
   "source": [
    "Переведем дату в подходящий формат и создадим признаки \"месяц публикации\", \"день публикации\" и \"час публикации\""
   ]
  },
  {
   "cell_type": "code",
   "execution_count": 41,
   "id": "c322fc91",
   "metadata": {},
   "outputs": [],
   "source": [
    "train_df[\"created\"] = pd.to_datetime(train_df[\"created\"])\n",
    "test_df[\"created\"] = pd.to_datetime(test_df[\"created\"])\n",
    "\n",
    "train_df[\"created_month\"] = train_df[\"created\"].dt.month\n",
    "test_df[\"created_month\"] = test_df[\"created\"].dt.month\n",
    "train_df[\"created_day\"] = train_df[\"created\"].dt.day\n",
    "test_df[\"created_day\"] = test_df[\"created\"].dt.day\n",
    "train_df[\"created_hour\"] = train_df[\"created\"].dt.hour\n",
    "test_df[\"created_hour\"] = test_df[\"created\"].dt.hour"
   ]
  },
  {
   "cell_type": "code",
   "execution_count": 42,
   "id": "003e4300",
   "metadata": {},
   "outputs": [
    {
     "name": "stdout",
     "output_type": "stream",
     "text": [
      "<class 'pandas.core.frame.DataFrame'>\n",
      "Int64Index: 48865 entries, 0 to 48864\n",
      "Data columns (total 22 columns):\n",
      " #   Column                 Non-Null Count  Dtype         \n",
      "---  ------                 --------------  -----         \n",
      " 0   bathrooms              48865 non-null  float64       \n",
      " 1   bedrooms               48865 non-null  int64         \n",
      " 2   building_id            48865 non-null  float64       \n",
      " 3   created                48865 non-null  datetime64[ns]\n",
      " 4   description            48865 non-null  object        \n",
      " 5   display_address        48865 non-null  float64       \n",
      " 6   features               48865 non-null  object        \n",
      " 7   latitude               48865 non-null  float64       \n",
      " 8   listing_id             48865 non-null  int64         \n",
      " 9   longitude              48865 non-null  float64       \n",
      " 10  manager_id             48865 non-null  float64       \n",
      " 11  photos                 48865 non-null  object        \n",
      " 12  price                  48865 non-null  int64         \n",
      " 13  street_address         48865 non-null  object        \n",
      " 14  interest_level         48865 non-null  object        \n",
      " 15  n_photos               48865 non-null  int64         \n",
      " 16  n_features             48865 non-null  int64         \n",
      " 17  num_description_words  48865 non-null  int64         \n",
      " 18  manager_skill          48865 non-null  float64       \n",
      " 19  created_month          48865 non-null  int64         \n",
      " 20  created_day            48865 non-null  int64         \n",
      " 21  created_hour           48865 non-null  int64         \n",
      "dtypes: datetime64[ns](1), float64(7), int64(9), object(5)\n",
      "memory usage: 8.6+ MB\n"
     ]
    },
    {
     "data": {
      "text/plain": [
       "None"
      ]
     },
     "metadata": {},
     "output_type": "display_data"
    },
    {
     "name": "stdout",
     "output_type": "stream",
     "text": [
      "<class 'pandas.core.frame.DataFrame'>\n",
      "Int64Index: 74659 entries, 0 to 74658\n",
      "Data columns (total 21 columns):\n",
      " #   Column                 Non-Null Count  Dtype         \n",
      "---  ------                 --------------  -----         \n",
      " 0   bathrooms              74659 non-null  float64       \n",
      " 1   bedrooms               74659 non-null  int64         \n",
      " 2   building_id            74659 non-null  float64       \n",
      " 3   created                74659 non-null  datetime64[ns]\n",
      " 4   description            74659 non-null  object        \n",
      " 5   display_address        74659 non-null  float64       \n",
      " 6   features               74659 non-null  object        \n",
      " 7   latitude               74659 non-null  float64       \n",
      " 8   listing_id             74659 non-null  int64         \n",
      " 9   longitude              74659 non-null  float64       \n",
      " 10  manager_id             74659 non-null  float64       \n",
      " 11  photos                 74659 non-null  object        \n",
      " 12  price                  74659 non-null  int64         \n",
      " 13  street_address         74659 non-null  object        \n",
      " 14  n_photos               74659 non-null  int64         \n",
      " 15  n_features             74659 non-null  int64         \n",
      " 16  num_description_words  74659 non-null  int64         \n",
      " 17  manager_skill          74659 non-null  float64       \n",
      " 18  created_month          74659 non-null  int64         \n",
      " 19  created_day            74659 non-null  int64         \n",
      " 20  created_hour           74659 non-null  int64         \n",
      "dtypes: datetime64[ns](1), float64(7), int64(9), object(4)\n",
      "memory usage: 12.5+ MB\n"
     ]
    },
    {
     "data": {
      "text/plain": [
       "None"
      ]
     },
     "metadata": {},
     "output_type": "display_data"
    }
   ],
   "source": [
    "display(train_df.info())\n",
    "display(test_df.info())"
   ]
  },
  {
   "cell_type": "markdown",
   "id": "96cb8f43",
   "metadata": {},
   "source": [
    "### Текстовые признаки"
   ]
  },
  {
   "cell_type": "markdown",
   "id": "1126ec78",
   "metadata": {},
   "source": [
    "Зададим признаки на основе имеющихся удобств в квартирах. Для этого создадим корпус из слов, встречающихся в столбце features, посчитаем tf-idf для каждого слова и зададим эти значения как признаки для модели."
   ]
  },
  {
   "cell_type": "markdown",
   "id": "73e08444",
   "metadata": {},
   "source": [
    "За реализацию идеи спасибо SRK в своём ноутбуке [XGB starter in python](https://www.kaggle.com/sudalairajkumar/xgb-starter-in-python)"
   ]
  },
  {
   "cell_type": "code",
   "execution_count": 43,
   "id": "9f9c8936",
   "metadata": {},
   "outputs": [
    {
     "data": {
      "text/plain": [
       "0    Dining_Room Pre-War Laundry_in_Building Dishwa...\n",
       "1    Doorman Elevator Laundry_in_Building Dishwashe...\n",
       "2    Doorman Elevator Laundry_in_Building Laundry_i...\n",
       "3                                                     \n",
       "4    Doorman Elevator Fitness_Center Laundry_in_Bui...\n",
       "Name: features, dtype: object"
      ]
     },
     "metadata": {},
     "output_type": "display_data"
    }
   ],
   "source": [
    "train_df['features'] = train_df[\"features\"].apply(lambda x: \" \".join([\"_\".join(i.split(\" \")) for i in x]))\n",
    "test_df['features'] = test_df[\"features\"].apply(lambda x: \" \".join([\"_\".join(i.split(\" \")) for i in x]))\n",
    "display(train_df[\"features\"].head())\n",
    "tfidf = CountVectorizer(stop_words='english', max_features=200)\n",
    "tr_sparse = tfidf.fit_transform(train_df[\"features\"])\n",
    "te_sparse = tfidf.transform(test_df[\"features\"])"
   ]
  },
  {
   "cell_type": "markdown",
   "id": "52d2a50c",
   "metadata": {},
   "source": [
    "## Обучение модели"
   ]
  },
  {
   "cell_type": "code",
   "execution_count": 44,
   "id": "1970ea03",
   "metadata": {},
   "outputs": [
    {
     "data": {
      "text/plain": [
       "Index(['bathrooms', 'bedrooms', 'building_id', 'created', 'description',\n",
       "       'display_address', 'features', 'latitude', 'listing_id', 'longitude',\n",
       "       'manager_id', 'photos', 'price', 'street_address', 'interest_level',\n",
       "       'n_photos', 'n_features', 'num_description_words', 'manager_skill',\n",
       "       'created_month', 'created_day', 'created_hour'],\n",
       "      dtype='object')"
      ]
     },
     "execution_count": 44,
     "metadata": {},
     "output_type": "execute_result"
    }
   ],
   "source": [
    "train_df.columns"
   ]
  },
  {
   "cell_type": "code",
   "execution_count": 45,
   "id": "0880e551",
   "metadata": {},
   "outputs": [],
   "source": [
    "features_to_use = ['bathrooms', 'bedrooms', 'building_id', 'display_address', 'latitude', 'manager_skill', \n",
    "                   'longitude', 'manager_id', 'price', 'n_photos', 'n_features', 'num_description_words', \n",
    "                   'created_month', 'created_day', 'created_hour']"
   ]
  },
  {
   "cell_type": "code",
   "execution_count": 46,
   "id": "3916aadb",
   "metadata": {},
   "outputs": [
    {
     "name": "stdout",
     "output_type": "stream",
     "text": [
      "(48865, 215) (74659, 215)\n"
     ]
    }
   ],
   "source": [
    "train_X = sparse.hstack([train_df[features_to_use], tr_sparse]).tocsr()\n",
    "test_X = sparse.hstack([test_df[features_to_use], te_sparse]).tocsr()\n",
    "\n",
    "target_num_map = {'high':0, 'medium':1, 'low':2}\n",
    "train_y = np.array(train_df['interest_level'].apply(lambda x: target_num_map[x]))\n",
    "print(train_X.shape, test_X.shape)"
   ]
  },
  {
   "cell_type": "code",
   "execution_count": 47,
   "id": "ea85a367",
   "metadata": {},
   "outputs": [
    {
     "name": "stdout",
     "output_type": "stream",
     "text": [
      "Комбинация параметров, которая дает лучший результат: {'max_depth': 7, 'n_estimators': 120}\n",
      "Минимальный log_loss: 0.558931\n",
      "Wall time: 27.8 s\n"
     ]
    }
   ],
   "source": [
    "%%time\n",
    "\n",
    "model = LGBMClassifier(random_state=123)\n",
    "params = {'max_depth': np.arange(5, 10, 2), 'n_estimators': np.arange(100,151,10)}\n",
    "grid = GridSearchCV(model, params, scoring='neg_log_loss', cv=2)\n",
    "grid.fit(train_X, train_y)\n",
    "\n",
    "print('Комбинация параметров, которая дает лучший результат:', grid.best_params_)\n",
    "print(f'Минимальный log_loss: {abs(grid.best_score_):.6f}')"
   ]
  },
  {
   "cell_type": "code",
   "execution_count": 48,
   "id": "fd349faf",
   "metadata": {},
   "outputs": [],
   "source": [
    "model = LGBMClassifier(max_depth = 7, n_estimators=120, random_state=123)\n",
    "model.fit(train_X, train_y)\n",
    "\n",
    "pred = model.predict_proba(test_X)"
   ]
  },
  {
   "cell_type": "code",
   "execution_count": 49,
   "id": "8ddd9b63",
   "metadata": {},
   "outputs": [],
   "source": [
    "result = pd.DataFrame(pred)\n",
    "result.columns = [\"high\", \"medium\", \"low\"]\n",
    "result[\"listing_id\"] = test_df.listing_id.values\n",
    "result.to_csv(r'C:\\Users\\leoci\\Desktop\\two_sigma.csv', index=False)"
   ]
  }
 ],
 "metadata": {
  "kernelspec": {
   "display_name": "Python 3",
   "language": "python",
   "name": "python3"
  },
  "language_info": {
   "codemirror_mode": {
    "name": "ipython",
    "version": 3
   },
   "file_extension": ".py",
   "mimetype": "text/x-python",
   "name": "python",
   "nbconvert_exporter": "python",
   "pygments_lexer": "ipython3",
   "version": "3.8.8"
  }
 },
 "nbformat": 4,
 "nbformat_minor": 5
}
